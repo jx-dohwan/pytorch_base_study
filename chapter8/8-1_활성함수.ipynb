{
 "cells": [
  {
   "attachments": {},
   "cell_type": "markdown",
   "metadata": {},
   "source": [
    "# 로지스틱 회귀\n",
    "- 데이터가 어떤 범주에 속할 확률을 0~1사이의 값으로 정하고 \n",
    "- 그 확률에 따라 가능성이 더 높은 범주에 속하는지 분류하는 알고리즘으로\n",
    "- 데이터의 분류와 예측 분석에 자주 사용한다."
   ]
  },
  {
   "attachments": {},
   "cell_type": "markdown",
   "metadata": {},
   "source": [
    "## 활성함수\n",
    "- 로지스틱 회귀를 이야기하기 전에 먼저 활성 함수(activation function)라고 불리는 녀석을 알아보겠다.\n",
    "- 다음 그림은 대표적인 활성 함수인 시그모이드(sigmoid)와 하이퍼볼릭 탄젠트(hyperbolic tangent)를 그래프로 나타낸 것이다.\n",
    "- 하이퍼볼릭 탄젠트는 탄에이치(TanH)라고 줄여서 부르기도 한다."
   ]
  },
  {
   "attachments": {},
   "cell_type": "markdown",
   "metadata": {},
   "source": [
    "![](../img/sigmoid_tanh.png)"
   ]
  },
  {
   "attachments": {},
   "cell_type": "markdown",
   "metadata": {},
   "source": [
    "- 시그모이드\n",
    "    - 음의 무한대에 가까울수록 0에 근접한 값을 가지며\n",
    "    - 양의 무한대에 가까울수록 1에 근접한 값을 가진다.\n",
    "    - 즉, 시그모이드 함수의 출력값의 범위는 0에서 1사이로 정해져 있다.\n",
    "- tanh\n",
    "    - 음의 무한대에 가까울수록 -1에 근접하는 값을 가지며\n",
    "    - 양의 무한대에 가까울 수록 1에 근접하는 값을 가진다.\n",
    "    - 즉 tanh함수의 출력값의 범위는 -1에서 1사이이다.\n",
    "> 시그모이드를 활용하여 로지스틱 회귀를 구현할 수 있다."
   ]
  },
  {
   "cell_type": "code",
   "execution_count": null,
   "metadata": {},
   "outputs": [],
   "source": []
  }
 ],
 "metadata": {
  "kernelspec": {
   "display_name": "pytorch",
   "language": "python",
   "name": "python3"
  },
  "language_info": {
   "name": "python",
   "version": "3.6.13 |Anaconda, Inc.| (default, Mar 16 2021, 11:37:27) [MSC v.1916 64 bit (AMD64)]"
  },
  "orig_nbformat": 4,
  "vscode": {
   "interpreter": {
    "hash": "c76801ef4636d259bef71178ff9b6783756e10e36adbdb1b3ea353d89da04bd9"
   }
  }
 },
 "nbformat": 4,
 "nbformat_minor": 2
}
