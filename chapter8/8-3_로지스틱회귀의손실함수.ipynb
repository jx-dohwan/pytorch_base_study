{
 "cells": [
  {
   "attachments": {},
   "cell_type": "markdown",
   "metadata": {},
   "source": [
    "## 이진 크로스엔트로피 손실 함수\n",
    "- 로지스틱 회귀와 같은 이진 분류 문제를 풀기 위해서는 이진 크로스엔트로피(binary cross-entropy,BCE) 손실 함수를 사용한다.\n",
    "- N개의 정답과 모델 출력 벡터에 대한 BCE 손실함수는 다음과 같이 정의 된다.\n",
    "    - 정답 벡터는 각 벡터의 요소별로 정답 여부를 가지고 있게 돈다.\n",
    "    - 문제에 대한 정답이 참이면 1, 거짓이면 0인 값으로 각 벡터의 요소가 채워져 있을 것이다."
   ]
  },
  {
   "cell_type": "code",
   "execution_count": null,
   "metadata": {},
   "outputs": [],
   "source": []
  }
 ],
 "metadata": {
  "kernelspec": {
   "display_name": "pytorch",
   "language": "python",
   "name": "python3"
  },
  "language_info": {
   "name": "python",
   "version": "3.6.13 |Anaconda, Inc.| (default, Mar 16 2021, 11:37:27) [MSC v.1916 64 bit (AMD64)]"
  },
  "orig_nbformat": 4,
  "vscode": {
   "interpreter": {
    "hash": "c76801ef4636d259bef71178ff9b6783756e10e36adbdb1b3ea353d89da04bd9"
   }
  }
 },
 "nbformat": 4,
 "nbformat_minor": 2
}
