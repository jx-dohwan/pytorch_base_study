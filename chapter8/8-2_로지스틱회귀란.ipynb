{
 "cells": [
  {
   "attachments": {},
   "cell_type": "markdown",
   "metadata": {},
   "source": [
    "# 로지스틱회귀란\n",
    "- True or False"
   ]
  },
  {
   "attachments": {},
   "cell_type": "markdown",
   "metadata": {},
   "source": [
    "## 로지스틱 회귀 모델의 구조 및 추론 방법\n",
    "- 선형 회귀 문제를 풀기 위한 선형 계층 함수의 구성과 크게 다르지 않다.\n",
    "- 다만 선형 계층 함수 직후에 시그모이드 함수를 넣어주어 전체 모델링을 구성한다.\n",
    "- 그러면 이 모델의 출력값의 범위는 무조건 0에서 1사이로 고정될 것이다. \n",
    "- 이 모델의 가중치 파라미터가 잘 학습되어 있는 상태라고 했을 때 0.5를 기준으로 참과 거짓을 판단할 수 있다.\n",
    "    - 만약 어떤 요소 값이 0.5보다 같거나 클 경우에 해당 요소를 예측하는 정답을 참이라고 결론\n",
    "    - 반대로 0.5보다 작을 경우에는 예측하는 정답이 거짓이라는 결론"
   ]
  },
  {
   "attachments": {},
   "cell_type": "markdown",
   "metadata": {},
   "source": [
    "## 로지스틱 회귀 모델의 학습\n",
    "- n차원의 입력 벡터들을 N개 수집한 후 입력 샘플들을 모델에 통과(feed-forward)시키면\n",
    "- N개의 m차원의 출력 벡터들을 얻을 수 있을 것이다.\n",
    "- 그러면 N개의 정답 벡터들과 모델에서 출력된 벡터들을 비교하면 손실 값을 계산할 수 있다.\n",
    "- 다만 로지스틱 회귀의 손실함수는 기존 선형 회귀의 손실 함수와는 다른 함수를 사용한다."
   ]
  },
  {
   "attachments": {},
   "cell_type": "markdown",
   "metadata": {},
   "source": [
    "## 로지스틱 회귀의 의미\n",
    "- 로지스틱 회귀의 경우는 회귀가 붙어잇지만 분류 문제에 가깝다.\n",
    "- 특히 참과 거짓 중에서 정답을 선택해야 하므로 이진 분류에 속한다.\n",
    "- 회귀와 분류의 가장 큰 차이는 예측하고자하는 타깃 값의 성질이 다르다는 것이다.\n",
    "    - 회귀\n",
    "        - 연속형 실숫값을 맞추고자 한다.\n",
    "        - 따라서 실제 값에 가까워질수록 잘 예측한 것이다.\n",
    "    - 분류\n",
    "        - 실제 값에 가까워지는 것은 아무런 의미가 없다."
   ]
  },
  {
   "cell_type": "code",
   "execution_count": null,
   "metadata": {},
   "outputs": [],
   "source": []
  }
 ],
 "metadata": {
  "kernelspec": {
   "display_name": "pytorch",
   "language": "python",
   "name": "python3"
  },
  "language_info": {
   "name": "python",
   "version": "3.6.13 |Anaconda, Inc.| (default, Mar 16 2021, 11:37:27) [MSC v.1916 64 bit (AMD64)]"
  },
  "orig_nbformat": 4,
  "vscode": {
   "interpreter": {
    "hash": "c76801ef4636d259bef71178ff9b6783756e10e36adbdb1b3ea353d89da04bd9"
   }
  }
 },
 "nbformat": 4,
 "nbformat_minor": 2
}
