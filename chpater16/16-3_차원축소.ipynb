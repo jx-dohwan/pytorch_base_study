{
 "cells": [
  {
   "attachments": {},
   "cell_type": "markdown",
   "metadata": {},
   "source": [
    "## 선형 차원 축소 : 주성분분석(PCA)\n",
    "- PCA는 가장 널리 사용되는 차원 축소 방법 중의 하나로 고차원의 공간에 샘플들이 분포하고 있을 때 분포를 잘 설명하는 새로운 축axis를 찾아내는 과정을 말한다.\n",
    "- 이를 통해 선형 차원 축소를 수행할 수 있다.\n",
    "- 차원 축소를 수행하면 앞과 같이 희소한 벡터들이 존재할 때 좀 더 밀도 높은 표현의 벡터로 나타낼 수 있게 된다.\n",
    "- 새롭게 찾아낸 축에 투사된 샘플들의 분산이 클수록 샘플들 사이의 특징을 잘 표현했다고 할 수 있다.\n",
    "- 투사하는 거리가 작아질수록 잃어버리는 정보가 줄어둘게 된다.\n",
    "- PCA를 통해 성공적인 차원 축소를 수행하면 두 그룹을 분리하는 경계선도 성공적으로 찾아낼 수 있다.\n",
    "- 다만 PCA는 선형적으로 차우너 축소를 수행하기 때문에 비선형적인 경계선을 갖는 경우에는 PCA를 통해 분류를 잘 수행할 수 없다.\n",
    "- 이를 위해서 선형 차원 축소를 뛰어넘어 비선형 차원 축소를 도입해야 한다."
   ]
  },
  {
   "cell_type": "code",
   "execution_count": null,
   "metadata": {},
   "outputs": [],
   "source": []
  }
 ],
 "metadata": {
  "kernelspec": {
   "display_name": "base",
   "language": "python",
   "name": "python3"
  },
  "language_info": {
   "name": "python",
   "version": "3.9.7 (default, Sep 16 2021, 16:59:28) [MSC v.1916 64 bit (AMD64)]"
  },
  "orig_nbformat": 4,
  "vscode": {
   "interpreter": {
    "hash": "67a89c197df658fa9381c6ce748d39d138b8172be5d6bcdac46c5a692d7ae1fb"
   }
  }
 },
 "nbformat": 4,
 "nbformat_minor": 2
}
