{
 "cells": [
  {
   "attachments": {},
   "cell_type": "markdown",
   "metadata": {},
   "source": [
    "## 역전파 알고리즘의 수식\n",
    "- 단계를 나누어 각기 계산 후 곱해주는 것이 훨씨 효율적이다. \n",
    "- 한 번 계산해 놓으면 이후에는 결괏값을 계산 없이 계속 재활용하여 사용할 수 있개 때문에 훨씬 효율적이다."
   ]
  },
  {
   "cell_type": "code",
   "execution_count": null,
   "metadata": {},
   "outputs": [],
   "source": []
  }
 ],
 "metadata": {
  "language_info": {
   "name": "python"
  },
  "orig_nbformat": 4
 },
 "nbformat": 4,
 "nbformat_minor": 2
}
