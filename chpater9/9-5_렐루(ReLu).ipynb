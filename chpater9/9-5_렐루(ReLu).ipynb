{
 "cells": [
  {
   "attachments": {},
   "cell_type": "markdown",
   "metadata": {},
   "source": [
    "## 렐루(ReLU)\n",
    "- 앞서 그래디언트 소실 문제에 대해서 이야기 했었다.\n",
    "- 이것은 활성 함수의 미분 계수가 전 구간에서 1보다 작기 때문에 발생하는 것이다.\n",
    "- 또한 시그모이드나 tanh의 경우 함수의 양 끝단에 갈수록 기울기가 0이 되는 형태를 띠고 있다.\n",
    "- 그렇기 때문에 모델의 학습이 진행되어 선형 계층의 결괏값이 0으로부터 멀어져 어떤 의미를 지니게 될수록 학습이 점점 더져진다는 단점이 있다.\n",
    "- 즉 같은 성능에 도달하기 위해서 수행되어야 하는 경사하강법을 통한 업데이트 횟수가 많을수밖에 없다"
   ]
  },
  {
   "attachments": {},
   "cell_type": "markdown",
   "metadata": {},
   "source": [
    "![](../img/relu.png)"
   ]
  },
  {
   "attachments": {},
   "cell_type": "markdown",
   "metadata": {},
   "source": [
    "- 렐루는 기존 활성 함수의 단점을 보완하기 위해 제안되었다.\n",
    "- 음수 구간에서는 저눕 0의 값을 지니게 되며\n",
    "- 양수 구간에서는 전부 기울기가 1인 형태가 된다.\n",
    "- 양수 구간에서의 기울기가 1인 덕분에 렐루를 통해 구현된 심층신경망은 매우 빠른 최적화가 가능하다\n",
    "- 단점\n",
    "    - 음수 구간에서의 기울기가 0이 되므로 렐루의 입력이 0이 되는 상황에서는 렐루 뒷 단의 가중치 파라미터들에 대해 학습을 진행할 수 없다.\n",
    "\n",
    "    "
   ]
  },
  {
   "attachments": {},
   "cell_type": "markdown",
   "metadata": {},
   "source": [
    "![](../img/leaky_relu.png)"
   ]
  },
  {
   "attachments": {},
   "cell_type": "markdown",
   "metadata": {},
   "source": [
    "- 이러한 문제를 해결하기 위해 제안된 것이 리키렐루(leaky ReLu)이다.\n",
    "- 음수 구간에서 비록 1보다 작짐나 0이 아닌 기울기를 갖는것이 특징이다.\n",
    "- 그렇다고 렐루보다 무조건 좋은 것은 아니다. 상황마다 다르다."
   ]
  },
  {
   "attachments": {},
   "cell_type": "markdown",
   "metadata": {},
   "source": [
    "> 렐루의 경우 손실값이 떨어지는 속도가 매우 빠르다. 학계에서는 이러한 렐루의 발명이 딥러닝의 발전에 공이 매우 크다는 평이 있을 정도다<br>\n",
    "> 렐루와 리키렐루를 사용하더라도 음수구간은 기울기가 여전히 0보다 작기 때문에 그래디언트 소실 문제가 완전히 해결된 것은 아니다.<br>\n",
    "> ResNet에 활용된 skip-connection을 통해 그래디언트 소실을 완벽하게 해결할 수 있다.\n"
   ]
  }
 ],
 "metadata": {
  "kernelspec": {
   "display_name": "pytorch",
   "language": "python",
   "name": "python3"
  },
  "language_info": {
   "name": "python",
   "version": "3.6.13 |Anaconda, Inc.| (default, Mar 16 2021, 11:37:27) [MSC v.1916 64 bit (AMD64)]"
  },
  "orig_nbformat": 4,
  "vscode": {
   "interpreter": {
    "hash": "c76801ef4636d259bef71178ff9b6783756e10e36adbdb1b3ea353d89da04bd9"
   }
  }
 },
 "nbformat": 4,
 "nbformat_minor": 2
}
