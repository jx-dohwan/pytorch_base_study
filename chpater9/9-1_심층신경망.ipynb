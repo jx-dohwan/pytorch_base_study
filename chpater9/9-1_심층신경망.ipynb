{
 "cells": [
  {
   "attachments": {},
   "cell_type": "markdown",
   "metadata": {},
   "source": [
    "# 심층 신경망\n",
    "- 비선형 데이터 문제를 해결하기 위해서는 심층신경망을 통해 해결할 수 있다.\n",
    "- 예를 들면 이미지, 텍스트, 음성과 같은 데이터는 비선형 데이터일뿐만 아니라 \n",
    "- 높은 차원의 공간에 분포하고 있는 데이터이다.\n",
    "- 그래서 시각적으로 데이터의 분포를 확인하는 것조차 불가능하다"
   ]
  },
  {
   "attachments": {},
   "cell_type": "markdown",
   "metadata": {},
   "source": [
    "## 심층신경만이란?\n",
    "- 심층신경망은 서로 달느 선형 계층을 깊게 쌓아 구성할 수 있다.\n",
    "- 무조건 선형계층을 쌓는다고 되는 것은 아니다. 깊게 쌓아봤자 하나의 선형 계층을 마주하게 되는 것이다.\n",
    "- 비선형 문제를 풀 수 있는 가장 간단한 방법은 선형계층을 쌓을 때 그 사이에 비선형 함수를 끼워 넣는 것이다."
   ]
  },
  {
   "attachments": {},
   "cell_type": "markdown",
   "metadata": {},
   "source": [
    "## 심층 신경망의 크기\n",
    "- 신경망을 더 넓고 깊게 쌓아 더 복잡하고 어려운 데이터의 관계를 배우거나 문제를 풀 수 있다.\n",
    "- 하지만 깊고 넓어지면 계층들의 가중치 파라미터 크기가 늘어나게 되어서 \n",
    "- 경사하강법을 통해 최적화해야하는 공간의 차원의 크기도 같이 늘어나게 된다."
   ]
  }
 ],
 "metadata": {
  "kernelspec": {
   "display_name": "pytorch",
   "language": "python",
   "name": "python3"
  },
  "language_info": {
   "name": "python",
   "version": "3.6.13 |Anaconda, Inc.| (default, Mar 16 2021, 11:37:27) [MSC v.1916 64 bit (AMD64)]"
  },
  "orig_nbformat": 4,
  "vscode": {
   "interpreter": {
    "hash": "c76801ef4636d259bef71178ff9b6783756e10e36adbdb1b3ea353d89da04bd9"
   }
  }
 },
 "nbformat": 4,
 "nbformat_minor": 2
}
