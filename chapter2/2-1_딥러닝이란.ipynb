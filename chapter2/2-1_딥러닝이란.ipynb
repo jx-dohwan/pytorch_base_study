{
 "cells": [
  {
   "cell_type": "markdown",
   "metadata": {},
   "source": [
    "## 딥러닝이란\n",
    "- 심층신경망(Deep Neural Networks, DNN)을 학습시켜 문제를 해결하는 것이다.\n",
    "- 심층신경망이란느 것은 인공신경망(Artificial Neural Networks, ANN)의 한 종류라고 발 수 있다.\n",
    "- 좀 더 정확하게는 인공 신경망ㅇ르 구성하는 신경망 계층(layer)을 기존에 비해 더 깊게 구성하여 더욱 복잡핞 문제를 풀수 있도록 하는 것이다."
   ]
  },
  {
   "cell_type": "markdown",
   "metadata": {},
   "source": [
    "## 왜 딥러닝인가?\n",
    "- 심층 신경망은 비선형 함수이다.\n",
    "- 그렇기 때문에 기존 머신러닝 방법들과 비교하여 패턴 인식 능력이 월등하다\n",
    "- 결과적으로 이미지, 텍스트, 음성과 같은 다양한 분야에서 비약적인 성능 개선을 가져올 수 있다.\n",
    "- 특히 머신러닝 처럼 데이터의 특징을 일일이 설정해줄 필요가 없기 때문에 단순히 우너래 데이터 값을 넣어주는 것만으로도 충분하다"
   ]
  },
  {
   "cell_type": "markdown",
   "metadata": {},
   "source": [
    "## PLM\n",
    "- 대형(large scale) 사전학습언어모델(pretrained language model)\n",
    "- 인터넷 상에 존재하는 수많은 문장 데이터를 모아 단순히 다음 단어 또는 빈칸의 단어를 예측하도록 사전학습 시킨다.\n",
    "- 그 후 다양한 하위 작업(downstream task)에 파인튜닝(fine-tuning)하도록 해서 성능을 높인느 방법\n",
    "- 적은 양의 데이터로도 더 높은 성능을 거둘 수 있게 되었다.\n",
    "- 이후 모델의 크기를 키워가는 방향으로 경쟁이 격화되어 작은 규모의 실험실이나 회사에서는 이와 같은 연구를 진행하기 어렵게 되었다.\n",
    "- 이처럼 연구 개발 자금력에 의한 연구의 양극화가 발생하고 있으며 실제 구글이나 openAI와 같은 큰 기업들이 주도적으로 대형 언어모델을 연구하고 있다."
   ]
  },
  {
   "cell_type": "markdown",
   "metadata": {},
   "source": []
  }
 ],
 "metadata": {
  "kernelspec": {
   "display_name": "Python 3.6.13 ('pytorch')",
   "language": "python",
   "name": "python3"
  },
  "language_info": {
   "name": "python",
   "version": "3.6.13"
  },
  "orig_nbformat": 4,
  "vscode": {
   "interpreter": {
    "hash": "c76801ef4636d259bef71178ff9b6783756e10e36adbdb1b3ea353d89da04bd9"
   }
  }
 },
 "nbformat": 4,
 "nbformat_minor": 2
}
