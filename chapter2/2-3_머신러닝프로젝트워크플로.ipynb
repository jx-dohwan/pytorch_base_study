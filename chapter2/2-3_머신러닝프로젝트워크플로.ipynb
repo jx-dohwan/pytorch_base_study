{
 "cells": [
  {
   "cell_type": "markdown",
   "metadata": {},
   "source": [
    "## 일반적인 머신러닝 프로젝트의 진행 순서\n",
    "1. 문제정의\n",
    "    - 단계를 나누고 simplify\n",
    "    - x와 y를 정의\n",
    "\n",
    "2. 데이터 수집\n",
    "    - 문제 정의에 따른 수집\n",
    "    - 필요에 따라 레이블링\n",
    "\n",
    "3. 데이터 전처리 및 분석\n",
    "    - 형태를 가공\n",
    "    - 필요에 따라 EDA 수행\n",
    "\n",
    "4. 배포\n",
    "    - RESTful API를 통한 배포\n",
    "    - 상황에 따라 유지/보수\n",
    "\n",
    "5. 평가\n",
    "    - 실험 설계\n",
    "    - 데이터셋 구성\n",
    "\n",
    "6. 알고리즘 적용\n",
    "    - 가설을 세우고 구현/적용"
   ]
  },
  {
   "cell_type": "code",
   "execution_count": null,
   "metadata": {},
   "outputs": [],
   "source": []
  }
 ],
 "metadata": {
  "kernelspec": {
   "display_name": "Python 3.6.13 ('pytorch')",
   "language": "python",
   "name": "python3"
  },
  "language_info": {
   "name": "python",
   "version": "3.6.13"
  },
  "orig_nbformat": 4,
  "vscode": {
   "interpreter": {
    "hash": "c76801ef4636d259bef71178ff9b6783756e10e36adbdb1b3ea353d89da04bd9"
   }
  }
 },
 "nbformat": 4,
 "nbformat_minor": 2
}
