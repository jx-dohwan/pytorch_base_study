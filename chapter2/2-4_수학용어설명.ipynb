{
 "cells": [
  {
   "cell_type": "markdown",
   "metadata": {},
   "source": [
    "## Sum & Product"
   ]
  },
  {
   "cell_type": "code",
   "execution_count": 1,
   "metadata": {},
   "outputs": [
    {
     "name": "stdout",
     "output_type": "stream",
     "text": [
      "55\n"
     ]
    }
   ],
   "source": [
    "def sigma(x):\n",
    "    ret = 0\n",
    "    for x_i in x:\n",
    "        ret += x_i\n",
    "\n",
    "    return ret\n",
    "\n",
    "x = [i + 1 for i in range(10)]\n",
    "\n",
    "print(sigma(x))"
   ]
  },
  {
   "cell_type": "code",
   "execution_count": 2,
   "metadata": {},
   "outputs": [
    {
     "name": "stdout",
     "output_type": "stream",
     "text": [
      "3628800\n"
     ]
    }
   ],
   "source": [
    "def product(x):\n",
    "    ret = 1\n",
    "    for x_i in x:\n",
    "        ret *= x_i\n",
    "    return ret\n",
    "\n",
    "x = [i + 1 for i in range(10)]\n",
    "\n",
    "print(product(x))"
   ]
  },
  {
   "cell_type": "markdown",
   "metadata": {},
   "source": [
    "## Argmax"
   ]
  },
  {
   "cell_type": "code",
   "execution_count": 4,
   "metadata": {},
   "outputs": [
    {
     "name": "stdout",
     "output_type": "stream",
     "text": [
      "10\n"
     ]
    }
   ],
   "source": [
    "import numpy as np\n",
    "\n",
    "def argmax(target_func, X):\n",
    "    max_val = -np.inf\n",
    "    ret = None\n",
    "    for x in X:\n",
    "        val = x\n",
    "        if val > max_val:\n",
    "            max_val = val\n",
    "            ret = x\n",
    "    return ret\n",
    "\n",
    "X = [i + 1 for i in range(10)]\n",
    "\n",
    "def f(x):\n",
    "    return -np.log(x)\n",
    "\n",
    "print(argmax(f,x))"
   ]
  },
  {
   "cell_type": "code",
   "execution_count": null,
   "metadata": {},
   "outputs": [],
   "source": []
  }
 ],
 "metadata": {
  "kernelspec": {
   "display_name": "Python 3.6.13 ('pytorch')",
   "language": "python",
   "name": "python3"
  },
  "language_info": {
   "codemirror_mode": {
    "name": "ipython",
    "version": 3
   },
   "file_extension": ".py",
   "mimetype": "text/x-python",
   "name": "python",
   "nbconvert_exporter": "python",
   "pygments_lexer": "ipython3",
   "version": "3.6.13"
  },
  "orig_nbformat": 4,
  "vscode": {
   "interpreter": {
    "hash": "c76801ef4636d259bef71178ff9b6783756e10e36adbdb1b3ea353d89da04bd9"
   }
  }
 },
 "nbformat": 4,
 "nbformat_minor": 2
}
