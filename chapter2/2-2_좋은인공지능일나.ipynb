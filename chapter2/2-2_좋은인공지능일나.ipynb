{
 "cells": [
  {
   "cell_type": "markdown",
   "metadata": {},
   "source": [
    "## 인공지능 모델이란\n",
    "- 함수가 어떻게 동작할지 정해놓은 내용을 파라미터라고 한다.\n",
    "- 구체적인 동작 방식을 알 수 없는 함수 f*를 인공지능 모델을 통해 근사치를 내는 것이다.\n",
    "- 학습이란 수집된 데이터와 x와 y 쌍을 통해 함수가 f가 x로부터 y로 가는 관계를 배우는 것을 의미한다.\n",
    "- 좋은 모델이란 일반화를 잘하는 모델이다. 일반화란 보지 못한 데이터에 대해서 좋은 예측을 하는 것이다. "
   ]
  },
  {
   "cell_type": "code",
   "execution_count": null,
   "metadata": {},
   "outputs": [],
   "source": []
  }
 ],
 "metadata": {
  "kernelspec": {
   "display_name": "Python 3.6.13 ('pytorch')",
   "language": "python",
   "name": "python3"
  },
  "language_info": {
   "name": "python",
   "version": "3.6.13"
  },
  "orig_nbformat": 4,
  "vscode": {
   "interpreter": {
    "hash": "c76801ef4636d259bef71178ff9b6783756e10e36adbdb1b3ea353d89da04bd9"
   }
  }
 },
 "nbformat": 4,
 "nbformat_minor": 2
}
