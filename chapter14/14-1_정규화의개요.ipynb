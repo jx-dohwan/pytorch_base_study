{
 "cells": [
  {
   "attachments": {},
   "cell_type": "markdown",
   "metadata": {},
   "source": [
    "# 오버피팅 복습\n",
    "![](../img/orverfiting.png)"
   ]
  },
  {
   "attachments": {},
   "cell_type": "markdown",
   "metadata": {},
   "source": [
    "## 정규화란?\n",
    "- 정규화란 오버피팅을 늦추고 모델이 학습 데이터로부터 적절한 특징들을학습하여 일반화 오차를 낮춰줄 수 있는 기법을 말한다.\n",
    "- 일반화 오차를 낮추는 정규화 과정에서 종종 학습 오차가 높아질 수 있다.\n",
    "- 이것은 다양한 정규화 방식들이 학습 오차를 최소화하는 것을 방해하는 형태로 적용되기 때문이다.\n",
    "- 이와 같은 과정을 통해 얻어진 잘 일반화된 모델은 노이즈에 강인한 모델이 된다."
   ]
  },
  {
   "attachments": {},
   "cell_type": "markdown",
   "metadata": {},
   "source": [
    "## 다양한 정규화 방법들\n",
    "![](../img/%EC%A0%95%EA%B7%9C%ED%99%94%EB%B0%A9%EB%B2%95%EB%93%A4.png)"
   ]
  }
 ],
 "metadata": {
  "language_info": {
   "name": "python"
  },
  "orig_nbformat": 4
 },
 "nbformat": 4,
 "nbformat_minor": 2
}
