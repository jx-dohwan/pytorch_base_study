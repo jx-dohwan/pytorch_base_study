{
 "cells": [
  {
   "attachments": {},
   "cell_type": "markdown",
   "metadata": {},
   "source": [
    "## 모델 구조 서계\n",
    "- 모델은 28 X 28 크기의 이미지를 펼친 784 차원의 ㅂ게터로 입력받아 각 숫자 클래스별 확률 값을 반환해야 한다.\n",
    "- 당므은 우리가 구현할 모델의 구조를 그림으로 나타낸 것이다. \n",
    "- "
   ]
  },
  {
   "cell_type": "code",
   "execution_count": null,
   "metadata": {},
   "outputs": [],
   "source": []
  }
 ],
 "metadata": {
  "language_info": {
   "name": "python"
  },
  "orig_nbformat": 4
 },
 "nbformat": 4,
 "nbformat_minor": 2
}
