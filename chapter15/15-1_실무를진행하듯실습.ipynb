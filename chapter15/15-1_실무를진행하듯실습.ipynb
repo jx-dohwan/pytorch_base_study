{
 "cells": [
  {
   "attachments": {},
   "cell_type": "markdown",
   "metadata": {},
   "source": [
    "# 실무를 진행하듯 실습하기\n",
    "- 지금까지는 주피터 노트북을 활용한 실습ㅇ르 진행했었다. \n",
    "- 하지만 머신러닝 프로젝트를 진행할 때 주피터 노트북은 실무 환경에서 일부만 쓰이고 있다.\n",
    "- 왜냐하면 주피터 노트북은 복잡한 프로그램 개발에 적합하지 않은 형태일뿐만 아니라 배포에 적합하지 않기 때문이다.\n",
    "- 주피터 노트북은 바로 각 셀의 실행 결과를 확인할 수 있기 때문에 데이터를 분석하는 과정과 같이 각 셀의 결과에 따라 해야하는 일이 바뀌는 경우에 적합하다\n",
    "- 하지만 해야할 작업이 명확하고 반복되는 경우에는 py확장자를 가진 파이썬 스크립트로 제작하여 CLI환경에서 작업을 수행하는 것이 좀 더 바람직하다\n"
   ]
  },
  {
   "attachments": {},
   "cell_type": "markdown",
   "metadata": {},
   "source": [
    "- 따라서 데이터분석 과정을 제외한 머신러닝 프로젝트 대부분의 과정은 CLI 환경에서 수행된다.\n",
    "- 특히 모델링 및 하이퍼퍼라미터 튜닝 작업 시에는 반복적인 실험이 수행되기 때문에 코드를 수정하여 실험을 수행하는 것이 아니라\n",
    "- CLI 환경에서 파이썬 스크립트 실행과 함께 실행 파라미터를 넣어주어 실험을 수행하도록 하는 것이 낫다."
   ]
  },
  {
   "attachments": {},
   "cell_type": "markdown",
   "metadata": {},
   "source": [
    "## 머신러닝 프로젝트 파일 구조 예시\n",
    "- model.py : 모델 클래스가 정의된 코드\n",
    "- trainer.py : 데이터를 받아와 모델 객체를 학습하기 위한 트레이너가 정의된 코드\n",
    "- dataloader.py : 데이터 파일을 읽어와 전처리를 수행하고 신경망에 넣기 좋은 형태로 변환하는 코드\n",
    "- train.py : 사용자로부터 하이퍼파라미터를 입력받아 필요한 객체들을 준비하여 학습을 진행\n",
    "- predict.py : 사용자로부터 기학습된 모델과 추론을 위한샘플을 입력받아 추론을 수행"
   ]
  },
  {
   "attachments": {},
   "cell_type": "markdown",
   "metadata": {},
   "source": [
    "![](../img/project_process.png)"
   ]
  },
  {
   "attachments": {},
   "cell_type": "markdown",
   "metadata": {},
   "source": [
    "- train.py는 사용자가 학습을 진행할 때 직접 실행(엔트리 포인트)할 파이썬 스크립트 팡리이다.\n",
    "- 이 파일을 실행하면 사용자로부터 필요한 하이퍼파라미터를 입력받아 각 클래스의 객체를 생성하고 학습을 진행한다.\n",
    "- 사용자는 이 train.py를 통해 코드 수정없이 다양한 하이퍼파라미터들을 변경해가며 반복적인 실험을 수행할 수 있다."
   ]
  },
  {
   "cell_type": "code",
   "execution_count": null,
   "metadata": {},
   "outputs": [],
   "source": [
    "$ python train.py --model_fn ./models/model.pth --n_layers 10 --dropout 0.3"
   ]
  },
  {
   "attachments": {},
   "cell_type": "markdown",
   "metadata": {},
   "source": [
    "- 또한 트레이너는 데이터로더로부터 준비된 데이터를 넘겨받아 모델에 넣어 학습과 검증을 진행하는 역할을 수행한다.\n",
    "- 이렇게 학습이 완료되면 모델의 가중치 파라미터는 pickle 형태로 다른 필요한 정보들과 함께 파일로 저장된다.\n",
    "- 그러면 predict.py는 저장된 피클 파일을 읽어와서 모델 객체를 생성하고 학습된 가중치 파라미터를 그대로 복원한다\n",
    "- 그리고 사용자로부터 추론을 위한 샘플이 주어지면 모델에 통과시켜 추론 결과를 반환한다.\n",
    "- 이때 predict.py에 선언된 함수들을 감싸서 RESTful API 서버로 구현할수도 있을 것이다.\n"
   ]
  }
 ],
 "metadata": {
  "kernelspec": {
   "display_name": "base",
   "language": "python",
   "name": "python3"
  },
  "language_info": {
   "name": "python",
   "version": "3.9.7 (default, Sep 16 2021, 16:59:28) [MSC v.1916 64 bit (AMD64)]"
  },
  "orig_nbformat": 4,
  "vscode": {
   "interpreter": {
    "hash": "67a89c197df658fa9381c6ce748d39d138b8172be5d6bcdac46c5a692d7ae1fb"
   }
  }
 },
 "nbformat": 4,
 "nbformat_minor": 2
}
