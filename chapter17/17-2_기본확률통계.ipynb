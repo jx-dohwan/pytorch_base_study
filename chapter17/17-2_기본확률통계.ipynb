{
 "cells": [
  {
   "attachments": {},
   "cell_type": "markdown",
   "metadata": {},
   "source": [
    "## 기본 확률 통계\n",
    "- 이산 확률 변수가 특정 값을 가질 확률을 나타내는 것을 확률 질량이라고 부른다.\n",
    "- 연속 확률 변수의 경우 특정 값에 대한 확률은 확률 밀도를 통해서 나타낼 수 있다.\n",
    "- 확률 밀도는 확률 값을 나타내는 것이 아니다.\n",
    "- 확률 밀도를 구간에 대하여 적분하면 우리가 흔히 말하는 확률 값이 된다.\n"
   ]
  },
  {
   "attachments": {},
   "cell_type": "markdown",
   "metadata": {},
   "source": [
    "### 결합 확률\n",
    "- 두 개 이상의 변수를 사용하는 확률 표현을 결합 확률이라고 한다.\n",
    "- 만약 두 변수가 독립적이라면 각 변수의 확률 곱으로도 나타낼 수 있다.\n",
    "- 머신러닝이나 딥러닝 문제에서는 입력과 출력 등을 확률 변수로 나타낼 수 있는데\n",
    "- 일반적으로 입력 샘플을 나타내는 변수를 x, 출력 샘플을 나타내는 변수는 y를 사용하여 결합 확률로 나타내는 경우가 많습니다."
   ]
  },
  {
   "attachments": {},
   "cell_type": "markdown",
   "metadata": {},
   "source": [
    "### 조건부 확률\n",
    "- 머신러닝에서 결합 확률보다 더 흔히 사용하는 것이 조건부 확률이다.\n",
    "- 조건부 확률과 결합 확률의 관계를 활용한 것이 베이즈 정리이다.\n",
    "- 베이즈 정리를 활용하면 조건부 확률의 앞과  뒤에 나타나는 변수 위치를 반대로 바꿀 수 있다.\n",
    "- 베이즈 정리 또한 머신러닝에서 굉장히 중요한 역할을 수행한다."
   ]
  },
  {
   "attachments": {},
   "cell_type": "markdown",
   "metadata": {},
   "source": [
    "### 변수? 값? 분포? 함수?\n",
    "- 함수 출력이 확률 분포라는 것을 파이썬에 적용해보면 함수라 실수형 값을 반환하는 것이 아니라 분포라는 객체를 반환하는 것으로 생각할 수 있을 것이다."
   ]
  },
  {
   "attachments": {},
   "cell_type": "markdown",
   "metadata": {},
   "source": [
    "### 주변 분포\n",
    "- 결합 확률 분포가 있을 때 하나의 변수를 적분해서 없앨 수도 있다. 이것을 주변 분포라고 한다."
   ]
  },
  {
   "attachments": {},
   "cell_type": "markdown",
   "metadata": {},
   "source": [
    "### 샘플링과 기댓값\n",
    "- "
   ]
  },
  {
   "cell_type": "code",
   "execution_count": null,
   "metadata": {},
   "outputs": [],
   "source": []
  }
 ],
 "metadata": {
  "kernelspec": {
   "display_name": "base",
   "language": "python",
   "name": "python3"
  },
  "language_info": {
   "name": "python",
   "version": "3.9.7 (default, Sep 16 2021, 16:59:28) [MSC v.1916 64 bit (AMD64)]"
  },
  "orig_nbformat": 4,
  "vscode": {
   "interpreter": {
    "hash": "67a89c197df658fa9381c6ce748d39d138b8172be5d6bcdac46c5a692d7ae1fb"
   }
  }
 },
 "nbformat": 4,
 "nbformat_minor": 2
}
