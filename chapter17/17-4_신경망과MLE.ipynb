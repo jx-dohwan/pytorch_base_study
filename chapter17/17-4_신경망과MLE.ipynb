{
 "cells": [
  {
   "attachments": {},
   "cell_type": "markdown",
   "metadata": {},
   "source": [
    "# 신경망과 MLE\n",
    "- 앞서 MLE를 통해 수집한 데이터로부터 분포의 형태를 추정하는 방법을 알아보았다.\n",
    "- 또한 가능도는 데이터 샘플을 주어진 분포의 파라미터로 얼마나 잘설명하는지 수치화한 것이다."
   ]
  },
  {
   "attachments": {},
   "cell_type": "markdown",
   "metadata": {},
   "source": [
    "## 신경망의 출력과 확률 분포\n",
    "- 심층신경망의 가중치 파라미터가 분포를 나타내는 파라미터이며 신경망의 출력이 가중치 파라미터의 변화에 따른 확률분포라고 볼 수 있다.\n",
    "- 최대 가능도를 만드는 방향을 가중치 파라미터를 경사상승법을 통해 업데이트 할 수 있다.\n",
    "- 하지만 파이토치를 포함한 현존하는 딥러닝 프레임워크 대부분은 경사하강법만 지원하고 잇다.\n",
    "- 따라서 NLL을 도입하여 최대화 문제를 최소화 문제로 바꾸고 경사하강법을 통해 MLE를 구현할 수 있다."
   ]
  },
  {
   "cell_type": "code",
   "execution_count": null,
   "metadata": {},
   "outputs": [],
   "source": []
  }
 ],
 "metadata": {
  "kernelspec": {
   "display_name": "base",
   "language": "python",
   "name": "python3"
  },
  "language_info": {
   "name": "python",
   "version": "3.9.7 (default, Sep 16 2021, 16:59:28) [MSC v.1916 64 bit (AMD64)]"
  },
  "orig_nbformat": 4,
  "vscode": {
   "interpreter": {
    "hash": "67a89c197df658fa9381c6ce748d39d138b8172be5d6bcdac46c5a692d7ae1fb"
   }
  }
 },
 "nbformat": 4,
 "nbformat_minor": 2
}
