{
 "cells": [
  {
   "attachments": {},
   "cell_type": "markdown",
   "metadata": {},
   "source": [
    "## 들어가면\n",
    "- 세상은 사실 확률에 기반한다고 볼 수 있다.\n",
    "- 이제는 신경망 함수가 확률 분포를 표현하기 위한 벡터를 출력한다고 볼 수 있다.\n",
    "- 그렇다면 좀 더 확률 통계 및 수학적인 관점에서 신경망을 통해 예측하는 과정 설명이 가능할 것이다.\n",
    "- 또한 단순히 딱 정해진 값을 예측하도록 신경망을 학습하는 것이 아니라 불확실성까지 예측하도록 학습시킬 수 있게 될 것이다."
   ]
  },
  {
   "cell_type": "code",
   "execution_count": null,
   "metadata": {},
   "outputs": [],
   "source": []
  }
 ],
 "metadata": {
  "kernelspec": {
   "display_name": "base",
   "language": "python",
   "name": "python3"
  },
  "language_info": {
   "name": "python",
   "version": "3.9.7 (default, Sep 16 2021, 16:59:28) [MSC v.1916 64 bit (AMD64)]"
  },
  "orig_nbformat": 4,
  "vscode": {
   "interpreter": {
    "hash": "67a89c197df658fa9381c6ce748d39d138b8172be5d6bcdac46c5a692d7ae1fb"
   }
  }
 },
 "nbformat": 4,
 "nbformat_minor": 2
}
