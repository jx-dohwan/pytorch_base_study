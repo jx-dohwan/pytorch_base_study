{
 "cells": [
  {
   "attachments": {},
   "cell_type": "markdown",
   "metadata": {},
   "source": [
    "- 회귀 문제에서 신경망이 가우시안 분포의 평균을 출력하고 있다고 한다면 여전히 분류 문제와 같은 원래 내에서 동작하고 있다"
   ]
  },
  {
   "cell_type": "code",
   "execution_count": null,
   "metadata": {},
   "outputs": [],
   "source": []
  }
 ],
 "metadata": {
  "kernelspec": {
   "display_name": "base",
   "language": "python",
   "name": "python3"
  },
  "language_info": {
   "name": "python",
   "version": "3.9.7 (default, Sep 16 2021, 16:59:28) [MSC v.1916 64 bit (AMD64)]"
  },
  "orig_nbformat": 4,
  "vscode": {
   "interpreter": {
    "hash": "67a89c197df658fa9381c6ce748d39d138b8172be5d6bcdac46c5a692d7ae1fb"
   }
  }
 },
 "nbformat": 4,
 "nbformat_minor": 2
}
