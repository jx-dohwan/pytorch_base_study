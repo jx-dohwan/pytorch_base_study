{
 "cells": [
  {
   "attachments": {},
   "cell_type": "markdown",
   "metadata": {},
   "source": [
    "## 데이터 준비"
   ]
  },
  {
   "cell_type": "code",
   "execution_count": 1,
   "metadata": {},
   "outputs": [],
   "source": [
    "import pandas as pd\n",
    "import seaborn as sns\n",
    "import matplotlib.pyplot as plt\n",
    "from sklearn.preprocessing import StandardScaler"
   ]
  },
  {
   "cell_type": "code",
   "execution_count": 2,
   "metadata": {},
   "outputs": [],
   "source": [
    "from sklearn.datasets import load_boston\n",
    "boston = load_boston()\n",
    "\n",
    "df = pd.DataFrame(boston.data, columns=boston.feature_names)\n",
    "df['TARGET'] = boston.target"
   ]
  },
  {
   "cell_type": "code",
   "execution_count": 3,
   "metadata": {},
   "outputs": [
    {
     "data": {
      "text/html": [
       "<div>\n",
       "<style scoped>\n",
       "    .dataframe tbody tr th:only-of-type {\n",
       "        vertical-align: middle;\n",
       "    }\n",
       "\n",
       "    .dataframe tbody tr th {\n",
       "        vertical-align: top;\n",
       "    }\n",
       "\n",
       "    .dataframe thead th {\n",
       "        text-align: right;\n",
       "    }\n",
       "</style>\n",
       "<table border=\"1\" class=\"dataframe\">\n",
       "  <thead>\n",
       "    <tr style=\"text-align: right;\">\n",
       "      <th></th>\n",
       "      <th>CRIM</th>\n",
       "      <th>ZN</th>\n",
       "      <th>INDUS</th>\n",
       "      <th>CHAS</th>\n",
       "      <th>NOX</th>\n",
       "      <th>RM</th>\n",
       "      <th>AGE</th>\n",
       "      <th>DIS</th>\n",
       "      <th>RAD</th>\n",
       "      <th>TAX</th>\n",
       "      <th>PTRATIO</th>\n",
       "      <th>B</th>\n",
       "      <th>LSTAT</th>\n",
       "      <th>TARGET</th>\n",
       "    </tr>\n",
       "  </thead>\n",
       "  <tbody>\n",
       "    <tr>\n",
       "      <th>501</th>\n",
       "      <td>-0.4132</td>\n",
       "      <td>-0.4877</td>\n",
       "      <td>0.1157</td>\n",
       "      <td>-0.2726</td>\n",
       "      <td>0.1581</td>\n",
       "      <td>0.4393</td>\n",
       "      <td>0.0187</td>\n",
       "      <td>-0.6258</td>\n",
       "      <td>-0.9828</td>\n",
       "      <td>-0.8032</td>\n",
       "      <td>1.1765</td>\n",
       "      <td>0.3872</td>\n",
       "      <td>-0.4181</td>\n",
       "      <td>22.4</td>\n",
       "    </tr>\n",
       "    <tr>\n",
       "      <th>502</th>\n",
       "      <td>-0.4152</td>\n",
       "      <td>-0.4877</td>\n",
       "      <td>0.1157</td>\n",
       "      <td>-0.2726</td>\n",
       "      <td>0.1581</td>\n",
       "      <td>-0.2345</td>\n",
       "      <td>0.2889</td>\n",
       "      <td>-0.7166</td>\n",
       "      <td>-0.9828</td>\n",
       "      <td>-0.8032</td>\n",
       "      <td>1.1765</td>\n",
       "      <td>0.4411</td>\n",
       "      <td>-0.5008</td>\n",
       "      <td>20.6</td>\n",
       "    </tr>\n",
       "    <tr>\n",
       "      <th>503</th>\n",
       "      <td>-0.4134</td>\n",
       "      <td>-0.4877</td>\n",
       "      <td>0.1157</td>\n",
       "      <td>-0.2726</td>\n",
       "      <td>0.1581</td>\n",
       "      <td>0.9850</td>\n",
       "      <td>0.7974</td>\n",
       "      <td>-0.7737</td>\n",
       "      <td>-0.9828</td>\n",
       "      <td>-0.8032</td>\n",
       "      <td>1.1765</td>\n",
       "      <td>0.4411</td>\n",
       "      <td>-0.9830</td>\n",
       "      <td>23.9</td>\n",
       "    </tr>\n",
       "    <tr>\n",
       "      <th>504</th>\n",
       "      <td>-0.4078</td>\n",
       "      <td>-0.4877</td>\n",
       "      <td>0.1157</td>\n",
       "      <td>-0.2726</td>\n",
       "      <td>0.1581</td>\n",
       "      <td>0.7257</td>\n",
       "      <td>0.7370</td>\n",
       "      <td>-0.6684</td>\n",
       "      <td>-0.9828</td>\n",
       "      <td>-0.8032</td>\n",
       "      <td>1.1765</td>\n",
       "      <td>0.4032</td>\n",
       "      <td>-0.8653</td>\n",
       "      <td>22.0</td>\n",
       "    </tr>\n",
       "    <tr>\n",
       "      <th>505</th>\n",
       "      <td>-0.4150</td>\n",
       "      <td>-0.4877</td>\n",
       "      <td>0.1157</td>\n",
       "      <td>-0.2726</td>\n",
       "      <td>0.1581</td>\n",
       "      <td>-0.3628</td>\n",
       "      <td>0.4347</td>\n",
       "      <td>-0.6132</td>\n",
       "      <td>-0.9828</td>\n",
       "      <td>-0.8032</td>\n",
       "      <td>1.1765</td>\n",
       "      <td>0.4411</td>\n",
       "      <td>-0.6691</td>\n",
       "      <td>11.9</td>\n",
       "    </tr>\n",
       "  </tbody>\n",
       "</table>\n",
       "</div>"
      ],
      "text/plain": [
       "       CRIM      ZN   INDUS    CHAS     NOX      RM     AGE     DIS     RAD  \\\n",
       "501 -0.4132 -0.4877  0.1157 -0.2726  0.1581  0.4393  0.0187 -0.6258 -0.9828   \n",
       "502 -0.4152 -0.4877  0.1157 -0.2726  0.1581 -0.2345  0.2889 -0.7166 -0.9828   \n",
       "503 -0.4134 -0.4877  0.1157 -0.2726  0.1581  0.9850  0.7974 -0.7737 -0.9828   \n",
       "504 -0.4078 -0.4877  0.1157 -0.2726  0.1581  0.7257  0.7370 -0.6684 -0.9828   \n",
       "505 -0.4150 -0.4877  0.1157 -0.2726  0.1581 -0.3628  0.4347 -0.6132 -0.9828   \n",
       "\n",
       "        TAX  PTRATIO       B   LSTAT  TARGET  \n",
       "501 -0.8032   1.1765  0.3872 -0.4181    22.4  \n",
       "502 -0.8032   1.1765  0.4411 -0.5008    20.6  \n",
       "503 -0.8032   1.1765  0.4411 -0.9830    23.9  \n",
       "504 -0.8032   1.1765  0.4032 -0.8653    22.0  \n",
       "505 -0.8032   1.1765  0.4411 -0.6691    11.9  "
      ]
     },
     "execution_count": 3,
     "metadata": {},
     "output_type": "execute_result"
    }
   ],
   "source": [
    "scaler = StandardScaler()\n",
    "scaler.fit(df.values[:,:-1])\n",
    "df.values[:,:-1] = scaler.transform(df.values[:, :-1]).round(4)\n",
    "df.tail()"
   ]
  },
  {
   "attachments": {},
   "cell_type": "markdown",
   "metadata": {},
   "source": [
    "- 정규화하기 전에 데이터셋 분포의 특징을 파악하고 어떤 정규화 방법이 가장 어울릴지 결정해야 한다."
   ]
  },
  {
   "attachments": {},
   "cell_type": "markdown",
   "metadata": {},
   "source": [
    "## 학습 코드 구현"
   ]
  },
  {
   "cell_type": "code",
   "execution_count": 4,
   "metadata": {},
   "outputs": [],
   "source": [
    "import torch\n",
    "import torch.nn as nn\n",
    "import torch.nn.functional as F\n",
    "import torch.optim as optim"
   ]
  },
  {
   "cell_type": "code",
   "execution_count": 5,
   "metadata": {},
   "outputs": [],
   "source": [
    "data = torch.from_numpy(df.values).float()\n",
    "\n",
    "y = data[:, -1:]\n",
    "x = data[:, :-1]"
   ]
  },
  {
   "cell_type": "code",
   "execution_count": 6,
   "metadata": {},
   "outputs": [],
   "source": [
    "n_epochs = 200000\n",
    "learning_rate = 1e-4\n",
    "print_interval = 10000"
   ]
  },
  {
   "cell_type": "code",
   "execution_count": 7,
   "metadata": {},
   "outputs": [],
   "source": [
    "class MyModel(nn.Module):\n",
    "\n",
    "    def __init__(self, input_dim, output_dim):\n",
    "        self.input_dim = input_dim\n",
    "        self.output_dim = output_dim\n",
    "\n",
    "        super().__init__()\n",
    "\n",
    "        self.linear1 = nn.Linear(input_dim, 3)\n",
    "        self.linear2 = nn.Linear(3,3)\n",
    "        self.linear3 = nn.Linear(3,3)\n",
    "        self.linear4 = nn.Linear(3, output_dim)\n",
    "        self.act = nn.ReLU()\n",
    "\n",
    "    def forward(self, x):\n",
    "        h = self.act(self.linear1(x))\n",
    "        h = self.act(self.linear2(h))\n",
    "        h = self.act(self.linear3(h))\n",
    "        y = self.linear4(h)\n",
    "\n",
    "        return y"
   ]
  },
  {
   "cell_type": "code",
   "execution_count": 8,
   "metadata": {},
   "outputs": [
    {
     "name": "stdout",
     "output_type": "stream",
     "text": [
      "MyModel(\n",
      "  (linear1): Linear(in_features=13, out_features=3, bias=True)\n",
      "  (linear2): Linear(in_features=3, out_features=3, bias=True)\n",
      "  (linear3): Linear(in_features=3, out_features=3, bias=True)\n",
      "  (linear4): Linear(in_features=3, out_features=1, bias=True)\n",
      "  (act): ReLU()\n",
      ")\n"
     ]
    }
   ],
   "source": [
    "model = MyModel(x.size(-1), y.size(-1))\n",
    "print(model)"
   ]
  },
  {
   "cell_type": "code",
   "execution_count": 9,
   "metadata": {},
   "outputs": [
    {
     "name": "stdout",
     "output_type": "stream",
     "text": [
      "Sequential(\n",
      "  (0): Linear(in_features=13, out_features=3, bias=True)\n",
      "  (1): LeakyReLU(negative_slope=0.01)\n",
      "  (2): Linear(in_features=3, out_features=3, bias=True)\n",
      "  (3): LeakyReLU(negative_slope=0.01)\n",
      "  (4): Linear(in_features=3, out_features=3, bias=True)\n",
      "  (5): LeakyReLU(negative_slope=0.01)\n",
      "  (6): Linear(in_features=3, out_features=3, bias=True)\n",
      "  (7): LeakyReLU(negative_slope=0.01)\n",
      "  (8): Linear(in_features=3, out_features=1, bias=True)\n",
      ")\n"
     ]
    }
   ],
   "source": [
    "model = nn.Sequential(\n",
    "    nn.Linear(x.size(-1),3),\n",
    "    nn.LeakyReLU(),\n",
    "    nn.Linear(3,3),\n",
    "    nn.LeakyReLU(),\n",
    "    nn.Linear(3,3),\n",
    "    nn.LeakyReLU(),\n",
    "    nn.Linear(3,3),\n",
    "    nn.LeakyReLU(),\n",
    "    nn.Linear(3, y.size(-1))\n",
    ")\n",
    "print(model)"
   ]
  },
  {
   "cell_type": "code",
   "execution_count": 10,
   "metadata": {},
   "outputs": [],
   "source": [
    "optimizer = optim.SGD(model.parameters(), lr=learning_rate)"
   ]
  },
  {
   "cell_type": "code",
   "execution_count": 11,
   "metadata": {},
   "outputs": [
    {
     "name": "stdout",
     "output_type": "stream",
     "text": [
      "Epoch 10000: loss=9.3254e+01\n",
      "Epoch 20000: loss=8.4583e+01\n",
      "Epoch 30000: loss=8.4424e+01\n",
      "Epoch 40000: loss=8.4420e+01\n",
      "Epoch 50000: loss=8.4420e+01\n",
      "Epoch 60000: loss=8.4420e+01\n",
      "Epoch 70000: loss=8.4420e+01\n",
      "Epoch 80000: loss=8.4419e+01\n",
      "Epoch 90000: loss=8.4419e+01\n",
      "Epoch 100000: loss=8.4419e+01\n",
      "Epoch 110000: loss=8.4419e+01\n",
      "Epoch 120000: loss=8.4418e+01\n",
      "Epoch 130000: loss=8.4418e+01\n",
      "Epoch 140000: loss=8.4418e+01\n",
      "Epoch 150000: loss=8.4417e+01\n",
      "Epoch 160000: loss=8.4417e+01\n",
      "Epoch 170000: loss=8.4417e+01\n",
      "Epoch 180000: loss=8.4416e+01\n",
      "Epoch 190000: loss=8.4415e+01\n",
      "Epoch 200000: loss=8.4415e+01\n"
     ]
    }
   ],
   "source": [
    "for i in range(n_epochs):\n",
    "    y_hat = model(x)\n",
    "    loss = F.mse_loss(y_hat, y)\n",
    "\n",
    "    optimizer.zero_grad()\n",
    "    loss.backward()\n",
    "\n",
    "    optimizer.step()\n",
    "\n",
    "    if (i+1) % print_interval == 0:\n",
    "        print('Epoch %d: loss=%.4e' % (i+1, loss))\n"
   ]
  },
  {
   "attachments": {},
   "cell_type": "markdown",
   "metadata": {},
   "source": [
    "## 결과 확인"
   ]
  },
  {
   "cell_type": "code",
   "execution_count": 12,
   "metadata": {},
   "outputs": [
    {
     "data": {
      "image/png": "[encoded data removed]",
      "text/plain": [
       "<Figure size 720x720 with 6 Axes>"
      ]
     },
     "metadata": {
      "needs_background": "light"
     },
     "output_type": "display_data"
    }
   ],
   "source": [
    "df = pd.DataFrame(torch.cat([y,y_hat], dim=1).detach().numpy(), columns=['y','y_hat'])\n",
    "sns.pairplot(df, height=5)\n",
    "plt.show()"
   ]
  },
  {
   "cell_type": "code",
   "execution_count": null,
   "metadata": {},
   "outputs": [],
   "source": []
  }
 ],
 "metadata": {
  "kernelspec": {
   "display_name": "pytorch",
   "language": "python",
   "name": "python3"
  },
  "language_info": {
   "codemirror_mode": {
    "name": "ipython",
    "version": 3
   },
   "file_extension": ".py",
   "mimetype": "text/x-python",
   "name": "python",
   "nbconvert_exporter": "python",
   "pygments_lexer": "ipython3",
   "version": "3.6.13 |Anaconda, Inc.| (default, Mar 16 2021, 11:37:27) [MSC v.1916 64 bit (AMD64)]"
  },
  "orig_nbformat": 4,
  "vscode": {
   "interpreter": {
    "hash": "c76801ef4636d259bef71178ff9b6783756e10e36adbdb1b3ea353d89da04bd9"
   }
  }
 },
 "nbformat": 4,
 "nbformat_minor": 2
}
