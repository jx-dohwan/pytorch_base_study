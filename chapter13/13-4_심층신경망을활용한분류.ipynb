{
 "cells": [
  {
   "attachments": {},
   "cell_type": "markdown",
   "metadata": {},
   "source": [
    "# 심층 신경망을 활용한 분류\n",
    "- 심층신경망이 입력 x가 각 클래스에 속할 확률 값을 출려한다고 생각할 수 있다.\n",
    "- 이것을 다중 클래스 분류 문제로 확장할 수 있다.\n",
    "- 이진 분류와 마찬가지로 어떤 구조를 가진 심층신경망을 통해 입력 x에 대한 각 클래스별 조건부 확률 값을 출력한다.\n",
    "- 따라서 모델의 출력 벡터는 각 후보 클래스에 대한 조건부 확률 값을 요소로 가지고 있도록 한다. \n"
   ]
  },
  {
   "attachments": {},
   "cell_type": "markdown",
   "metadata": {},
   "source": [
    "## 분류 문제를 위한 심층신경망의 구조 손실 함수\n",
    "- 일반 분류 문제를 해결하기 위해 소프트맥스(softmax)함수를 활용한다.\n",
    "- 중요한 것은 이진 분류의 경우 출력 벡터의 차원만큼 별도의 이진 분류 문제가 있었던 것에 비해\n",
    "- 일반 다중 클래스 분류의 경우 한 모델이 하나의 분류 문제만 풀 수 있다.\n",
    "- 소프트맥스 함수는 벡터를 입력으로 받으면 각 차원이 상호작용하여 출력 벡터가 계산된다."
   ]
  },
  {
   "attachments": {},
   "cell_type": "markdown",
   "metadata": {},
   "source": [
    "## 회귀 vs 분류\n",
    "![](../img/%EB%B6%84%EB%A5%98%EB%AC%B8%EC%A0%9C%EA%B5%AC%EB%B6%84.png)"
   ]
  },
  {
   "cell_type": "code",
   "execution_count": null,
   "metadata": {},
   "outputs": [],
   "source": []
  }
 ],
 "metadata": {
  "kernelspec": {
   "display_name": "pytorch",
   "language": "python",
   "name": "python3"
  },
  "language_info": {
   "name": "python",
   "version": "3.6.13 |Anaconda, Inc.| (default, Mar 16 2021, 11:37:27) [MSC v.1916 64 bit (AMD64)]"
  },
  "orig_nbformat": 4,
  "vscode": {
   "interpreter": {
    "hash": "c76801ef4636d259bef71178ff9b6783756e10e36adbdb1b3ea353d89da04bd9"
   }
  }
 },
 "nbformat": 4,
 "nbformat_minor": 2
}
