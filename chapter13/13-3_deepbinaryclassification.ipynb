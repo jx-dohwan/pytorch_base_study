{
 "cells": [
  {
   "attachments": {},
   "cell_type": "markdown",
   "metadata": {},
   "source": [
    "## 데이터 준비"
   ]
  },
  {
   "cell_type": "code",
   "execution_count": 1,
   "metadata": {},
   "outputs": [],
   "source": [
    "import numpy as np\n",
    "import pandas as pd\n",
    "import seaborn as sns\n",
    "import matplotlib.pyplot as plt\n",
    "from copy import deepcopy\n",
    "\n",
    "from sklearn.preprocessing import StandardScaler\n",
    "from sklearn.datasets import load_breast_cancer"
   ]
  },
  {
   "cell_type": "code",
   "execution_count": 2,
   "metadata": {},
   "outputs": [],
   "source": [
    "cancer = load_breast_cancer()\n",
    "df = pd.DataFrame(cancer.data, columns=cancer.feature_names)\n",
    "df['class'] = cancer.target"
   ]
  },
  {
   "cell_type": "code",
   "execution_count": 3,
   "metadata": {},
   "outputs": [],
   "source": [
    "import torch\n",
    "import torch.nn as nn\n",
    "import torch.nn.functional as F\n",
    "import torch.optim as optim"
   ]
  },
  {
   "cell_type": "code",
   "execution_count": 4,
   "metadata": {},
   "outputs": [
    {
     "name": "stdout",
     "output_type": "stream",
     "text": [
      "torch.Size([569, 30]) torch.Size([569, 1])\n"
     ]
    }
   ],
   "source": [
    "data = torch.from_numpy(df.values).float()\n",
    "\n",
    "x = data[:, :-1]\n",
    "y = data[:, -1:]\n",
    "\n",
    "print(x.shape, y.shape)"
   ]
  },
  {
   "cell_type": "code",
   "execution_count": 5,
   "metadata": {},
   "outputs": [
    {
     "name": "stdout",
     "output_type": "stream",
     "text": [
      "Train 341 / Valid 113/ Test 115 samples.\n"
     ]
    }
   ],
   "source": [
    "# Train/Valid/Test ratio\n",
    "ratios = [.6, .2, .2]\n",
    "\n",
    "train_cnt = int(data.size(0) * ratios[0])\n",
    "valid_cnt = int(data.size(0) * ratios[1])\n",
    "test_cnt = data.size(0) - train_cnt - valid_cnt\n",
    "cnts = [train_cnt, valid_cnt, test_cnt]\n",
    "\n",
    "print('Train %d / Valid %d/ Test %d samples.'%(train_cnt, valid_cnt, test_cnt))"
   ]
  },
  {
   "cell_type": "code",
   "execution_count": 6,
   "metadata": {},
   "outputs": [
    {
     "name": "stdout",
     "output_type": "stream",
     "text": [
      "torch.Size([341, 30]) torch.Size([341, 1])\n",
      "torch.Size([113, 30]) torch.Size([113, 1])\n",
      "torch.Size([115, 30]) torch.Size([115, 1])\n"
     ]
    }
   ],
   "source": [
    "indices = torch.randperm(data.size(0))\n",
    "\n",
    "x = torch.index_select(x, dim=0, index=indices)\n",
    "y = torch.index_select(y, dim=0, index=indices)\n",
    "\n",
    "x = x.split(cnts, dim=0)\n",
    "y = y.split(cnts, dim=0)\n",
    "\n",
    "for x_i, y_i in zip(x,y):\n",
    "    print(x_i.size(), y_i.size())"
   ]
  },
  {
   "cell_type": "code",
   "execution_count": 7,
   "metadata": {},
   "outputs": [],
   "source": [
    "scaler = StandardScaler()\n",
    "scaler.fit(x[0].numpy())\n",
    "\n",
    "x = [torch.from_numpy(scaler.transform(x[0].numpy())).float(),\n",
    "     torch.from_numpy(scaler.transform(x[1].numpy())).float(),\n",
    "     torch.from_numpy(scaler.transform(x[2].numpy())).float()\n",
    "    ]"
   ]
  },
  {
   "attachments": {},
   "cell_type": "markdown",
   "metadata": {},
   "source": [
    "## 학습 코드 구현\n",
    "- 모델 구조의 마지막에는 시그모이드를 넣어주어 이진 분류를 위한 준비를 마친다."
   ]
  },
  {
   "cell_type": "code",
   "execution_count": 9,
   "metadata": {},
   "outputs": [
    {
     "data": {
      "text/plain": [
       "Sequential(\n",
       "  (0): Linear(in_features=30, out_features=25, bias=True)\n",
       "  (1): LeakyReLU(negative_slope=0.01)\n",
       "  (2): Linear(in_features=25, out_features=20, bias=True)\n",
       "  (3): LeakyReLU(negative_slope=0.01)\n",
       "  (4): Linear(in_features=20, out_features=15, bias=True)\n",
       "  (5): LeakyReLU(negative_slope=0.01)\n",
       "  (6): Linear(in_features=15, out_features=10, bias=True)\n",
       "  (7): LeakyReLU(negative_slope=0.01)\n",
       "  (8): Linear(in_features=10, out_features=5, bias=True)\n",
       "  (9): LeakyReLU(negative_slope=0.01)\n",
       "  (10): Linear(in_features=5, out_features=1, bias=True)\n",
       "  (11): Sigmoid()\n",
       ")"
      ]
     },
     "execution_count": 9,
     "metadata": {},
     "output_type": "execute_result"
    }
   ],
   "source": [
    "model = nn.Sequential(\n",
    "    nn.Linear(x[0].size(-1), 25),\n",
    "    nn.LeakyReLU(),\n",
    "    nn.Linear(25,20),\n",
    "    nn.LeakyReLU(),\n",
    "    nn.Linear(20,15),\n",
    "    nn.LeakyReLU(),\n",
    "    nn.Linear(15,10),\n",
    "    nn.LeakyReLU(),\n",
    "    nn.Linear(10,5),\n",
    "    nn.LeakyReLU(),\n",
    "    nn.Linear(5, y[0].size(-1)),\n",
    "    nn.Sigmoid(),\n",
    ")\n",
    "model"
   ]
  },
  {
   "cell_type": "code",
   "execution_count": 10,
   "metadata": {},
   "outputs": [],
   "source": [
    "optimizer = optim.Adam(model.parameters())"
   ]
  },
  {
   "cell_type": "code",
   "execution_count": 11,
   "metadata": {},
   "outputs": [],
   "source": [
    "n_epochs = 10000\n",
    "batch_size = 32\n",
    "print_interval = 10\n",
    "early_stop = 100\n",
    "\n",
    "lowest_loss = np.inf\n",
    "best_model = None\n",
    "lowest_epoch = np.inf"
   ]
  },
  {
   "cell_type": "code",
   "execution_count": 12,
   "metadata": {},
   "outputs": [
    {
     "name": "stdout",
     "output_type": "stream",
     "text": [
      "Epoch 10 : trian loss=1.1964e-01 valid_loss=1.0250e-01 lowest_loss=1.5298e-01\n",
      "Epoch 20 : trian loss=2.7953e-02 valid_loss=1.1721e-01 lowest_loss=8.7403e-02\n",
      "Epoch 30 : trian loss=1.5071e-02 valid_loss=1.3551e-01 lowest_loss=8.7403e-02\n",
      "Epoch 40 : trian loss=1.2852e-02 valid_loss=1.4549e-01 lowest_loss=8.7403e-02\n",
      "Epoch 50 : trian loss=1.0614e-02 valid_loss=1.5272e-01 lowest_loss=8.7403e-02\n",
      "Epoch 60 : trian loss=8.7601e-03 valid_loss=1.6298e-01 lowest_loss=8.7403e-02\n",
      "Epoch 70 : trian loss=6.7819e-03 valid_loss=1.7543e-01 lowest_loss=8.7403e-02\n",
      "Epoch 80 : trian loss=2.5121e-03 valid_loss=1.9860e-01 lowest_loss=8.7403e-02\n",
      "Epoch 90 : trian loss=1.0585e-03 valid_loss=2.2398e-01 lowest_loss=8.7403e-02\n",
      "Epoch 100 : trian loss=5.3859e-04 valid_loss=2.4535e-01 lowest_loss=8.7403e-02\n",
      "Epoch 110 : trian loss=3.3269e-04 valid_loss=2.6145e-01 lowest_loss=8.7403e-02\n",
      "There is no improvment during last 100 epochs\n",
      "The best validation loss from epoch 12 : 8.7403e-02\n"
     ]
    },
    {
     "data": {
      "text/plain": [
       "<All keys matched successfully>"
      ]
     },
     "execution_count": 12,
     "metadata": {},
     "output_type": "execute_result"
    }
   ],
   "source": [
    "train_history, valid_history = [], []\n",
    "\n",
    "for i in range(n_epochs):\n",
    "    indices = torch.randperm(x[0].size(0))\n",
    "    x_ = torch.index_select(x[0], dim=0, index=indices)\n",
    "    y_ = torch.index_select(y[0], dim=0, index=indices)\n",
    "\n",
    "    x_ = x_.split(batch_size, dim = 0)\n",
    "    y_ = y_.split(batch_size, dim = 0)\n",
    "\n",
    "    train_loss, valid_loss = 0, 0\n",
    "    y_hat = []\n",
    "\n",
    "    for x_i, y_i in zip(x_, y_):\n",
    "        y_hat_i = model(x_i)\n",
    "        loss = F.binary_cross_entropy(y_hat_i, y_i)\n",
    "\n",
    "        optimizer.zero_grad()\n",
    "        loss.backward()\n",
    "\n",
    "        optimizer.step()\n",
    "        train_loss += float(loss)\n",
    "\n",
    "    train_loss = train_loss / len(x_)\n",
    "\n",
    "    with torch.no_grad():\n",
    "        x_ = x[1].split(batch_size, dim=0)\n",
    "        y_ = y[1].split(batch_size, dim=0)\n",
    "\n",
    "        valid_loss = 0\n",
    "\n",
    "        for x_i, y_i in zip(x_, y_):\n",
    "            y_hat_i = model(x_i)\n",
    "            loss = F.binary_cross_entropy(y_hat_i, y_i)\n",
    "\n",
    "            valid_loss += float(loss)\n",
    "\n",
    "            y_hat += [y_hat_i]\n",
    "    \n",
    "    valid_loss = valid_loss / len(x_)\n",
    "\n",
    "    train_history += [train_loss]\n",
    "    valid_history += [valid_loss]\n",
    "\n",
    "    if (i + 1) % print_interval == 0:\n",
    "        print('Epoch %d : trian loss=%.4e valid_loss=%.4e lowest_loss=%.4e' % (\n",
    "            i+1,\n",
    "            train_loss,\n",
    "            valid_loss,\n",
    "            lowest_loss,\n",
    "        ))\n",
    "    \n",
    "    if valid_loss <= lowest_loss:\n",
    "        lowest_loss = valid_loss\n",
    "        lowest_epoch = i\n",
    "\n",
    "        best_model = deepcopy(model.state_dict())\n",
    "    else:\n",
    "        if early_stop > 0 and lowest_epoch + early_stop < i+1:\n",
    "            print('There is no improvment during last %d epochs'%early_stop)\n",
    "            break\n",
    "\n",
    "print('The best validation loss from epoch %d : %.4e' % (lowest_epoch + 1, lowest_loss))\n",
    "model.load_state_dict(best_model)"
   ]
  },
  {
   "attachments": {},
   "cell_type": "markdown",
   "metadata": {},
   "source": [
    "## 손실 곡선 확인"
   ]
  },
  {
   "cell_type": "code",
   "execution_count": 13,
   "metadata": {},
   "outputs": [
    {
     "data": {
      "image/png": "[encoded data removed]",
      "text/plain": [
       "<Figure size 1440x720 with 1 Axes>"
      ]
     },
     "metadata": {
      "needs_background": "light"
     },
     "output_type": "display_data"
    }
   ],
   "source": [
    "plot_from = 2\n",
    " \n",
    "plt.figure(figsize=(20, 10))\n",
    "plt.grid(True)\n",
    "plt.title(\"Train / Valid Loss History\")\n",
    "plt.plot(\n",
    "    range(plot_from, len(train_history)), train_history[plot_from:],\n",
    "    range(plot_from, len(valid_history)), valid_history[plot_from:],\n",
    "\n",
    ")\n",
    "plt.yscale('log')\n",
    "plt.show()"
   ]
  },
  {
   "attachments": {},
   "cell_type": "markdown",
   "metadata": {},
   "source": [
    "## 결과 확인"
   ]
  },
  {
   "cell_type": "code",
   "execution_count": 15,
   "metadata": {},
   "outputs": [
    {
     "name": "stdout",
     "output_type": "stream",
     "text": [
      "Train loss : 4.8430e-02\n",
      "valid loss : 8.7403e-02\n",
      "Test loss: 1.1444e-01\n"
     ]
    }
   ],
   "source": [
    "test_loss = 0\n",
    "y_hat = []\n",
    "\n",
    "with torch.no_grad():\n",
    "    x_ = x[2].split(batch_size, dim=0)\n",
    "    y_ = y[2].split(batch_size, dim=0)\n",
    "\n",
    "    for x_i, y_i in zip(x_, y_):\n",
    "        y_hat_i = model(x_i)\n",
    "        loss = F.binary_cross_entropy(y_hat_i, y_i)\n",
    "        test_loss += loss\n",
    "\n",
    "        y_hat += [y_hat_i]\n",
    "\n",
    "test_loss = test_loss / len(x_)\n",
    "y_hat = torch.cat(y_hat, dim=0)\n",
    "\n",
    "sorted_history = sorted(zip(train_history, valid_history), key=lambda x:x[1])\n",
    "\n",
    "print('Train loss : %.4e' % sorted_history[0][0])\n",
    "print('valid loss : %.4e' % sorted_history[0][1])\n",
    "print('Test loss: %.4e' % test_loss)"
   ]
  },
  {
   "cell_type": "code",
   "execution_count": 17,
   "metadata": {},
   "outputs": [
    {
     "name": "stdout",
     "output_type": "stream",
     "text": [
      "Test Accuracy : 0.9652\n"
     ]
    }
   ],
   "source": [
    "correct_cnt = (y[2] == (y_hat > .5)).sum()\n",
    "total_cnt = float(y[2].size(0))\n",
    "\n",
    "print('Test Accuracy : %.4f' % (correct_cnt / total_cnt))"
   ]
  },
  {
   "cell_type": "code",
   "execution_count": 18,
   "metadata": {},
   "outputs": [
    {
     "data": {
      "image/png": "[encoded data removed]",
      "text/plain": [
       "<Figure size 432x288 with 1 Axes>"
      ]
     },
     "metadata": {
      "needs_background": "light"
     },
     "output_type": "display_data"
    }
   ],
   "source": [
    "df = pd.DataFrame(torch.cat([y[2], y_hat], dim=1).detach().numpy(), columns=['y','y_hat'])\n",
    "sns.histplot(df, x='y_hat', hue='y', bins=50, stat='probability')\n",
    "plt.show()"
   ]
  },
  {
   "cell_type": "code",
   "execution_count": 19,
   "metadata": {},
   "outputs": [
    {
     "data": {
      "text/plain": [
       "0.9853968253968254"
      ]
     },
     "execution_count": 19,
     "metadata": {},
     "output_type": "execute_result"
    }
   ],
   "source": [
    "from sklearn.metrics import roc_auc_score\n",
    "\n",
    "roc_auc_score(df.values[:,0], df.values[:,-1])"
   ]
  },
  {
   "cell_type": "code",
   "execution_count": null,
   "metadata": {},
   "outputs": [],
   "source": [
    "s"
   ]
  }
 ],
 "metadata": {
  "kernelspec": {
   "display_name": "pytorch",
   "language": "python",
   "name": "python3"
  },
  "language_info": {
   "codemirror_mode": {
    "name": "ipython",
    "version": 3
   },
   "file_extension": ".py",
   "mimetype": "text/x-python",
   "name": "python",
   "nbconvert_exporter": "python",
   "pygments_lexer": "ipython3",
   "version": "3.6.13"
  },
  "orig_nbformat": 4,
  "vscode": {
   "interpreter": {
    "hash": "c76801ef4636d259bef71178ff9b6783756e10e36adbdb1b3ea353d89da04bd9"
   }
  }
 },
 "nbformat": 4,
 "nbformat_minor": 2
}
