{
 "cells": [
  {
   "attachments": {},
   "cell_type": "markdown",
   "metadata": {},
   "source": [
    "## 소프트맥스 함수\n",
    "- 소프트맥스 함수는 임의의 벡터를 입력을 받아 이산 확률 분포의 형태로 출력을 반환한다.\n",
    "- 따라서 출력 벡터의 요소들의 합은 1이 된다.\n",
    "- max함수의 soft 버전이다. "
   ]
  },
  {
   "attachments": {},
   "cell_type": "markdown",
   "metadata": {},
   "source": [
    "## 소프트맥스 함수의 수식\n",
    "- 소프트맥스 함수는 벡터 내의 다른 차원과 상호작용하여 해당 차원의 값이 결정된다.\n",
    "- 소프트맥스 함수의 결과는 각 차원에 대한 소프트맥스 결과를 모아서 벡터로 만든 것이라고 볼 수 있다.\n",
    "- 출력 벡터는 입력 x가 주어졌을 때 입력 샘플이 어떤 클래스에 속할지에 대한 조건부 확률 분포로 볼 수 있다.\n",
    "- 우리는 이 확률 분포 벡터를 정답 원 핫(one-hot)벡터와 똑같아지도록 손실함수를 통해 경사하강법을 수행하면 될 것이다."
   ]
  },
  {
   "attachments": {},
   "cell_type": "markdown",
   "metadata": {},
   "source": [
    "## 교차 엔트로피 손실 함수\n",
    "- 다중 클래스 분류 문제는 이진 분류 문제의 일반화 버전이기 때문에 BCE 손실 함수의 일반 버전인 교차 엔트로피 손실 함수를 사용한다.\n",
    "- CE 손실 함수는 전체 m개의 클래스에 대해서 정답이 각 클래승리 때의 텀들을 더하도록 되어 있는 것을 볼 수 있다.\n",
    "- 교차 엔트로피 내부 수식은 입력이 주어졌을 때 정답 클래스에 대한 로그 조건부 확률 값을 구하는 과정이 된다.\n",
    "- 우리는 로그 확률 값이 최대화되도록 파라미터를 움직여야 하는데 전체 손실 함수 입장에서는 가장 바깥쪽에 마이너스가 붙어 있으므로 최소화 문제로 바뀌게 된다."
   ]
  },
  {
   "attachments": {},
   "cell_type": "markdown",
   "metadata": {},
   "source": [
    "## 로그소프트맥스 함수와 음의 로그 가능도 손실 함수\n",
    "- 파이토치에서는 음의 가능도 손실함수를 제공한다.\n",
    "- 또한 소프트맥스 함수와 같이 로그소프트맥스 함수도 제공하는데\n",
    "- 소프트맥스에 그냥 로그를 취한 형태이다.\n",
    "- 소프트맥스 함수에 CE 손실 함수를 사용하는 것은 로그소프트맥스 함수에 NLL 손실 함수를 사용하는 것과 같은 결과를 얻을 수 있다.\n",
    "- 지수 함수를 사용하는 소프트맥스의 특성상 로그소프트맥스가 좀 더 빠른 연산 속도를 제공할 수 있다."
   ]
  },
  {
   "cell_type": "code",
   "execution_count": null,
   "metadata": {},
   "outputs": [],
   "source": []
  }
 ],
 "metadata": {
  "kernelspec": {
   "display_name": "pytorch",
   "language": "python",
   "name": "python3"
  },
  "language_info": {
   "name": "python",
   "version": "3.6.13 |Anaconda, Inc.| (default, Mar 16 2021, 11:37:27) [MSC v.1916 64 bit (AMD64)]"
  },
  "orig_nbformat": 4,
  "vscode": {
   "interpreter": {
    "hash": "c76801ef4636d259bef71178ff9b6783756e10e36adbdb1b3ea353d89da04bd9"
   }
  }
 },
 "nbformat": 4,
 "nbformat_minor": 2
}
