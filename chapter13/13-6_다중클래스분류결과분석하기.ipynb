{
 "cells": [
  {
   "attachments": {},
   "cell_type": "markdown",
   "metadata": {},
   "source": [
    "# 다중 클래스 분류 결과 분석하기\n",
    "- 실제 서비스나 배포를 염두에 두고 있는 머신러닝 프로젝트를 수행중이라면 모델을 배포하기에 앞서 면민하게 모델의 성능을 검토하는 작업을 수행해야 한다.\n",
    "- 이 절에서는 다중 클래스의 분류의 결과를 분석하기 위한 방법인 혼돈 행렬에 대해서 소개하도록 하겠다."
   ]
  },
  {
   "attachments": {},
   "cell_type": "markdown",
   "metadata": {},
   "source": [
    "## 혼돈 행렬\n",
    "- 보통 분류 문제는 정확도를 통해서 모델의 성능을 평가할 수 있다.\n",
    "- 하지만 서비스를 위해서는 단순히 정확도만 살펴보기 보다 모델이 어떤 케이스에 약하고 쉽게 틀릴 수 있는지를 파악해야 한다.\n",
    "- 또한 모델의 단점에 대한 면밀한 분석이 있어야지만 이후 모델의 개선에 있어서도 효율적으로 올바른 방향에 맞게 개선 작업을 수행할 수 있을 것이다.\n",
    "- 이런 의미에서 혼돈 행렬은 매우 유용하게 활용될 수 있다.\n",
    "- 이후 모든 영역에서 쏠림없이 용납되는 수준의 오류만 보인다면 배포 준비가 되었다고 판단할 수 있다."
   ]
  }
 ],
 "metadata": {
  "kernelspec": {
   "display_name": "pytorch",
   "language": "python",
   "name": "python3"
  },
  "language_info": {
   "codemirror_mode": {
    "name": "ipython",
    "version": 3
   },
   "file_extension": ".py",
   "mimetype": "text/x-python",
   "name": "python",
   "nbconvert_exporter": "python",
   "pygments_lexer": "ipython3",
   "version": "3.6.13"
  },
  "orig_nbformat": 4,
  "vscode": {
   "interpreter": {
    "hash": "c76801ef4636d259bef71178ff9b6783756e10e36adbdb1b3ea353d89da04bd9"
   }
  }
 },
 "nbformat": 4,
 "nbformat_minor": 2
}
