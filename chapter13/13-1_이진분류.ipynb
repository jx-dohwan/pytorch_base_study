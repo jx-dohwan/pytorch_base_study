{
 "cells": [
  {
   "attachments": {},
   "cell_type": "markdown",
   "metadata": {},
   "source": [
    "# 이진분류\n",
    "- 이진분류는 로지스틱 회귀를 통해서 배웠었다.\n",
    "- 본격적으로 분류 문제를 살폅기 전에 특수한 케이스인 이진 분류 문제를 심층신경망으로 해결하는 방법을 알아보자"
   ]
  },
  {
   "attachments": {},
   "cell_type": "markdown",
   "metadata": {},
   "source": [
    "## 심층신경망을 활용한 이진 분류\n",
    "- 기존 함수를 심층신경망으로 교체하면 바로 해결된다.\n",
    "- BCE 손실 함수를 미분할 때 체인 룰을 통해 역전파라 적용되고 각 가중치 파라미터별로 경사하강법이 적용되는 것을 제외하면 모두 똑같이 동작할 것이다."
   ]
  },
  {
   "cell_type": "code",
   "execution_count": null,
   "metadata": {},
   "outputs": [],
   "source": []
  }
 ],
 "metadata": {
  "language_info": {
   "name": "python"
  },
  "orig_nbformat": 4
 },
 "nbformat": 4,
 "nbformat_minor": 2
}
