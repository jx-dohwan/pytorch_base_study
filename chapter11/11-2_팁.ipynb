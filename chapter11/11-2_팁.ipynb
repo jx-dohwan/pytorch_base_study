{
 "cells": [
  {
   "attachments": {},
   "cell_type": "markdown",
   "metadata": {},
   "source": [
    "## 팁 : 효율적인 연구/개발 진행 방법"
   ]
  },
  {
   "attachments": {},
   "cell_type": "markdown",
   "metadata": {},
   "source": [
    "## 천 리길도 한 걸음부터\n",
    "- 연구에 있어서 베이스라인 구축이 가장 중요하다.\n",
    "- 최소한의 가정과 가장 간단한 방법으로 베이스 라인을 구축하고 차근차근 하나씩 개선해 나가면 된다.\n",
    "- 가장 간단한 방법을 적용한 베이스라인을 만들어 뒤를 든든하게 하고\n",
    "- 이후에 공격적인 방법을 적용해보는 것이 바림직하다.\n",
    "- 이런 방법으로 추가적인 시도나 방법이 실패하더라도 최소한의 성능은 보장 될 것이다."
   ]
  },
  {
   "attachments": {},
   "cell_type": "markdown",
   "metadata": {},
   "source": [
    "## 하이퍼파라미터에 따른 결과물 정리\n",
    "- 우리는 다양한 하이퍼파라미터에 대해서 굉장히 많은 실험을 반복 수행하며 성능을 체크해야한다.\n",
    "- 실험 결과를 체계적으로 저장하고 정리할 수 있는 능력과 시스템을 갖춰야 한다.\n",
    "- 파일 이름에 key값과 value값을 구분하여 적어도 좋다.\n",
    "- w and b를 활용하는 것도 좋다."
   ]
  },
  {
   "attachments": {},
   "cell_type": "markdown",
   "metadata": {},
   "source": [
    "## 파이프라인 구축\n",
    "- 문제 정의\n",
    "    - 단계를 나누고 simplify\n",
    "    - x와 y를 정의\n",
    "- 데이터 수집\n",
    "    - 문제 정의에 따른 수집\n",
    "    - 필요에 따라 레이블링\n",
    "- 데이터 전처리 및 분석\n",
    "    - 형태를 가공\n",
    "    - 필요에 따라 EDA 수행\n",
    "- 배포\n",
    "    - RESTful API를 통한 배포\n",
    "    - 상황에 따라 유지/보수\n",
    "- 평가\n",
    "    - 실험 설계\n",
    "    - 데이터셋 구성\n",
    "- 알고리즘 적용\n",
    "    - 가설을 세우고 구현/적용"
   ]
  },
  {
   "cell_type": "code",
   "execution_count": null,
   "metadata": {},
   "outputs": [],
   "source": []
  }
 ],
 "metadata": {
  "kernelspec": {
   "display_name": "pytorch",
   "language": "python",
   "name": "python3"
  },
  "language_info": {
   "name": "python",
   "version": "3.6.13 |Anaconda, Inc.| (default, Mar 16 2021, 11:37:27) [MSC v.1916 64 bit (AMD64)]"
  },
  "orig_nbformat": 4,
  "vscode": {
   "interpreter": {
    "hash": "c76801ef4636d259bef71178ff9b6783756e10e36adbdb1b3ea353d89da04bd9"
   }
  }
 },
 "nbformat": 4,
 "nbformat_minor": 2
}
