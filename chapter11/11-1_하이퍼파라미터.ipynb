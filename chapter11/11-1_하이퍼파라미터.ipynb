{
 "cells": [
  {
   "attachments": {},
   "cell_type": "markdown",
   "metadata": {},
   "source": [
    "## 하이퍼파라미터란?\n",
    "- 하이퍼파라미터는 모델의 성능에 영향을 끼치지만 자동으로 최적화되지 않는 파라미터를 가리킨다.\n",
    "- 즉, 사용자가 직접 실험을 통해 성능을 지켜보면서 값을 튜닝해야 한다.\n",
    "- 하이퍼파라미터를 전부 탐색하면 탐색 공간이 굉장히 커지게 되므로 높은 차원의 탐색 공간을 일일이 전부 탐색하여 최적의 하이퍼파라미터를 찾는다는 것은 불가능에 가깝다.\n",
    "- 따라서 최적의 하이퍼파라미터를 경험적으로 똔느 휴리스틱한 방법을 통해서 찾게된다.\n",
    "- 많은 실험을 하다보면 감이 생기기도 한다. "
   ]
  },
  {
   "attachments": {},
   "cell_type": "markdown",
   "metadata": {},
   "source": [
    "- 중요한 하이퍼파라미터와 사소한 하이퍼파라미터를 구분할 수 있는 능력이 필요하다\n",
    "- 중요한 하이퍼파라미터 위주로 튜닝해봐라\n",
    "- 평소 실험을 잘 정리하는 요령과 습관을 가져야 한다."
   ]
  },
  {
   "cell_type": "code",
   "execution_count": null,
   "metadata": {},
   "outputs": [],
   "source": []
  }
 ],
 "metadata": {
  "kernelspec": {
   "display_name": "pytorch",
   "language": "python",
   "name": "python3"
  },
  "language_info": {
   "name": "python",
   "version": "3.6.13 |Anaconda, Inc.| (default, Mar 16 2021, 11:37:27) [MSC v.1916 64 bit (AMD64)]"
  },
  "orig_nbformat": 4,
  "vscode": {
   "interpreter": {
    "hash": "c76801ef4636d259bef71178ff9b6783756e10e36adbdb1b3ea353d89da04bd9"
   }
  }
 },
 "nbformat": 4,
 "nbformat_minor": 2
}
