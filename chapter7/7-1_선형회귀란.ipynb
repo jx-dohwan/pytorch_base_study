{
 "cells": [
  {
   "attachments": {},
   "cell_type": "markdown",
   "metadata": {},
   "source": [
    "# 선형회귀란\n",
    "- 데이터를 수집하여 선형 게층을 모델 삼아 f*를 근사계산하려고 한다\n",
    "- 이를 위해서 손실 값을 최소로 만드는 손실함수의 입력인 가중치 파라미터를 찾아야 한다.\n",
    "- 이 때 경사하강법을 통해 가중치 파라미터를 손실함수가 작아지는 방향으로 점진적으로 업데이트 할 수 있다.\n",
    "> 이제 배운 내용을 통해 직접 문제를 풀어볼 차례이다.<br>\n",
    "> 실수 벡터 입력이 주어졌을 때 선형적 관계를 지닌 실수 벡터 값을 예측하는 문제를 선형 회귀라고 부른다.\n"
   ]
  },
  {
   "attachments": {},
   "cell_type": "markdown",
   "metadata": {},
   "source": [
    "## 선형 회귀 모델의 학습\n",
    "- NXn 크기의 행렬과 NXm 크기의 행렬로 구성되어 있다.\n",
    "- n 차원의 입력 베거를 가져와 선형 회귀 모델에 통과(feed-forward)시키면 m 차원의 출력 벡터를 얻을 수 있다.\n",
    "- 이렇게 모델로부터 얻어진 출력 벡터를 실제 타깃 벡터와 비교하면 손실값을 얻을 수 있다.\n",
    "- 이때 이 손실 값을 가중치 파라미터로 미분하게 되면 손실값을 낮추는 방향으로 파라미터를 업데이트 할 수 있게 된다.\n",
    "- 이와 같은 작업을 가중치 파라미터가 수렴할 때까지 반복하면 손실함수를 최소화시키는 가중치 파라미터를 구할 수 있다.\n"
   ]
  }
 ],
 "metadata": {
  "kernelspec": {
   "display_name": "pytorch",
   "language": "python",
   "name": "python3"
  },
  "language_info": {
   "name": "python",
   "version": "3.6.13 |Anaconda, Inc.| (default, Mar 16 2021, 11:37:27) [MSC v.1916 64 bit (AMD64)]"
  },
  "orig_nbformat": 4,
  "vscode": {
   "interpreter": {
    "hash": "c76801ef4636d259bef71178ff9b6783756e10e36adbdb1b3ea353d89da04bd9"
   }
  }
 },
 "nbformat": 4,
 "nbformat_minor": 2
}
