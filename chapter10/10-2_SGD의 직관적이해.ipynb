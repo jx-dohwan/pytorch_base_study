{
 "cells": [
  {
   "attachments": {},
   "cell_type": "markdown",
   "metadata": {},
   "source": [
    "## SGD의 직관적 이해\n",
    "- ![](../img/sgd.png)"
   ]
  },
  {
   "attachments": {},
   "cell_type": "markdown",
   "metadata": {},
   "source": [
    "- SGD를 적용하게 되면 미니배치는 전체 데이터셋에서 램던 샘플링이 되었기 때문에 평균적으로는 전체 데이터셋의 분포를 따를 것이지만\n",
    "- 어쩔 수 없이 편향(bias)이 생길수 있다.\n",
    "- 즉, 미니배치를 통해 구성한 손실 함수는 실제 전체 데이터셋의 손실 함수와 모양이 다를 것이므로\n",
    "- 이것을 미분했을 때 얻을 수 있는 그래디언트의 방향과 크기도 다를 가능성이 있다.\n",
    "- 결론적으로 미니배치가 커질수록 그래디언트느 실제 그래디언트와 비슷해질 확률이 높아질 것이고\n",
    "- 미니배치가 작아질수록 그래디언트는 실제 그래디언트와 달라질 확률이 높을 것이다."
   ]
  },
  {
   "cell_type": "markdown",
   "metadata": {},
   "source": []
  }
 ],
 "metadata": {
  "kernelspec": {
   "display_name": "pytorch",
   "language": "python",
   "name": "python3"
  },
  "language_info": {
   "name": "python",
   "version": "3.6.13 |Anaconda, Inc.| (default, Mar 16 2021, 11:37:27) [MSC v.1916 64 bit (AMD64)]"
  },
  "orig_nbformat": 4,
  "vscode": {
   "interpreter": {
    "hash": "c76801ef4636d259bef71178ff9b6783756e10e36adbdb1b3ea353d89da04bd9"
   }
  }
 },
 "nbformat": 4,
 "nbformat_minor": 2
}
