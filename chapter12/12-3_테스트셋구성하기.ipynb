{
 "cells": [
  {
   "attachments": {},
   "cell_type": "markdown",
   "metadata": {},
   "source": [
    "## 데이터셋의 필요성\n",
    "- 평가를 위한 데이터셋으로 검증 데이터셋을 활용한다면 모델은 테스트셋에 오버피팅될 것이다.\n",
    "- 반면 베이스 라인 모델들에게는 불공정한 평가가 되는 셈이다."
   ]
  },
  {
   "attachments": {},
   "cell_type": "markdown",
   "metadata": {},
   "source": [
    "## 데이터 나누기\n",
    "- 최종적으로 학습을 위한 데이터셋과 검증을 위한 데이터셋, 마지막으로 평가(테스트)를 위한 데이터셋을 따로 구성해야 한다.\n",
    "- 편향과 중복이 없도록 주의를한다. \n",
    "- 8:1:1 or 6:2:2로 구성한다."
   ]
  },
  {
   "attachments": {},
   "cell_type": "markdown",
   "metadata": {},
   "source": [
    "## 정리\n",
    "- 학습 데이터 셋을 통해서 가중치 파라미터를 결정(학습)\n",
    "- 검증 데이터셋과 테스트 데이터셋을 통해 오버피팅과 같은 정합성 여부 확인\n",
    "- 하이퍼파라미터의 경우 검증 데이터셋을 통해 결정 및 테스트 데이터셋을 통해서 검증\n",
    "- 알고리즘 결정은 테스트 데이터셋을 통한 평가를 통해 최고 성능의 알고리즘을 선택"
   ]
  }
 ],
 "metadata": {
  "kernelspec": {
   "display_name": "pytorch",
   "language": "python",
   "name": "python3"
  },
  "language_info": {
   "name": "python",
   "version": "3.6.13 |Anaconda, Inc.| (default, Mar 16 2021, 11:37:27) [MSC v.1916 64 bit (AMD64)]"
  },
  "orig_nbformat": 4,
  "vscode": {
   "interpreter": {
    "hash": "c76801ef4636d259bef71178ff9b6783756e10e36adbdb1b3ea353d89da04bd9"
   }
  }
 },
 "nbformat": 4,
 "nbformat_minor": 2
}
