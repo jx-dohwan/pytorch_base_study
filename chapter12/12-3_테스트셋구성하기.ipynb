{
 "cells": [
  {
   "attachments": {},
   "cell_type": "markdown",
   "metadata": {},
   "source": [
    "## 데이터셋의 필요성\n",
    "- 평가를 위한 데이터셋으로 검증 데이터셋을 활용한다면 모델은 테스트셋에 오버피팅될 것이다.\n",
    "- 반면 베이스 라인 모델들에게는 불공정한 평가가 되는 셈이다."
   ]
  },
  {
   "attachments": {},
   "cell_type": "markdown",
   "metadata": {},
   "source": [
    "## 데이터 나누기\n",
    "- 최종적으로 학습을 위한 데이터셋과 검증을 위한 데이터셋, 마지막으로 평가(테스트)를 위한 데이터셋을 따로 구성해야 한다.\n",
    "- 편향과 중복이 없도록 주의를한다. \n",
    "- 8:1:1 or 6:2:2로 구성한다."
   ]
  },
  {
   "attachments": {},
   "cell_type": "markdown",
   "metadata": {},
   "source": [
    "## 정리\n",
    "- 학습 데이터 셋을 통해서 가중치 파라미터를 결정(학습)\n",
    "- 검증 데이터셋과 테스트 데이터셋을 통해 오버피팅과 같은 정합성 여부 확인\n",
    "- 하이퍼파라미터의 경우 검증 데이터셋을 통해 결정 및 테스트 데이터셋을 통해서 검증\n",
    "- 알고리즘 결정은 테스트 데이터셋을 통한 평가를 통해 최고 성능의 알고리즘을 선택"
   ]
  }
 ],
 "metadata": {
  "language_info": {
   "name": "python"
  },
  "orig_nbformat": 4
 },
 "nbformat": 4,
 "nbformat_minor": 2
}
