{
 "cells": [
  {
   "attachments": {},
   "cell_type": "markdown",
   "metadata": {},
   "source": [
    "# 경사하강법\n",
    "- 효율적으로 손실 함수의 출력을 최소로 만드는 입력을 찾기 위한 기법"
   ]
  },
  {
   "attachments": {},
   "cell_type": "markdown",
   "metadata": {},
   "source": [
    "## 1차원에서의 경사하강법\n",
    "- 경사하강법은 미분 가능한 복잡한 함수가 있을 때 해당 함수의 최소점을 찾기 위한 방법이다.\n",
    "- 공이 위치한 지점의 기울기 또는 그래디언트를 활용하여 더 낮은 방향으로 이동한다. "
   ]
  },
  {
   "attachments": {},
   "cell_type": "markdown",
   "metadata": {},
   "source": [
    "## 경사하강법의 수식 표현\n",
    "- 함수 f의 출력값 y를 미분하면 각 지점에서의 기울기를 구할 수 있다.\n",
    "- 그 다음 움직여야 하는 다음 지점의 위치는 현재 지점의 기울기를 빼주면 구할 수 있다.\n",
    "- 이때 기울기에 상수 η를 곱해주어 움직임의 속도를 제어할 수 있다. \n",
    "- 상수 η를 학습률이라고 부른다.\n",
    "- 이런식으로 공의 위치를 바꾸다보면 언젠가는 공이 더 이상 움직일 수 없는 곳에 도달하게 된다."
   ]
  },
  {
   "attachments": {},
   "cell_type": "markdown",
   "metadata": {},
   "source": [
    "## 전역 최소점과 지역 최소점\n",
    "- 경사하강법은 지역 최소점에 빠질 우려가 있다. \n",
    "- 지역 최소점에 빠지게 된다면 더 이상 손실 값을 낮추지 못하고 낮은 성능의 모델을 얻을 가능성이 크다.\n",
    "- 그러나 경사하강법을 활용할때에는 지역 최소점으로 인한 성능 저하 문제는 크게 걱정하지 않도 된다.\n",
    "    - 높은 차원의 공간에서는 큰 문제가 되지 않는다. \n",
    "    - 지역 최소점을 구성하기 위한 조검들이 높은 차우너에서는 만족되기 어렵다.\n",
    "    - 지역 최소점에 빠지더라도 그 지역 최소점은 경험적으로 전역 최소점의 근방에 위치할 것이라는 말도 존재한다.\n",
    "    - 지역 최소점 문제에 대해서 큰 걱정하지 말고 모델 최적화에 집중해야한다."
   ]
  },
  {
   "attachments": {},
   "cell_type": "markdown",
   "metadata": {},
   "source": [
    "## 다차원으로 확장\n"
   ]
  },
  {
   "attachments": {},
   "cell_type": "markdown",
   "metadata": {},
   "source": [
    "## 모델 가중치 파라미커로 확장\n",
    "- 최적의 가중치 파라미터를 찾아야 한다.\n",
    "- 이를 위해서 각 가중치 파라미터 W와 b로 손실 함수를 미분하여 그래디언트를 구하고 가중치 파라미터들을 업데이트 할 수 있다."
   ]
  }
 ],
 "metadata": {
  "kernelspec": {
   "display_name": "pytorch",
   "language": "python",
   "name": "python3"
  },
  "language_info": {
   "name": "python",
   "version": "3.6.13 |Anaconda, Inc.| (default, Mar 16 2021, 11:37:27) [MSC v.1916 64 bit (AMD64)]"
  },
  "orig_nbformat": 4,
  "vscode": {
   "interpreter": {
    "hash": "c76801ef4636d259bef71178ff9b6783756e10e36adbdb1b3ea353d89da04bd9"
   }
  }
 },
 "nbformat": 4,
 "nbformat_minor": 2
}
