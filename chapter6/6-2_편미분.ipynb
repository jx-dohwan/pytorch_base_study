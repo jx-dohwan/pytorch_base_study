{
 "cells": [
  {
   "attachments": {},
   "cell_type": "markdown",
   "metadata": {},
   "source": [
    "## 편미분\n",
    "- 단변수 함수는 1차원 상의 함수가 되므로 미분을 한다면 접선의 기울기를 구하는 형태가 되었다.\n",
    "- 다변수 함수의 미분은 하나의 입력 변수에 대해서만 미분을 수행할 수 있다. 이것을 편미분이라고 부른다.\n",
    "- x의 변화량을 0에 수렴하게 만들어서 함수 f를 x로 미분할 수 있다.\n",
    "- 좌변이 의미하는 것은 다변수 함수 f를 입력 변수 중 하나인 x로 편미분한다는 것이다.\n",
    "- 다변수 함수 f에 특정 지점의 기울기는 각 변수별 미분 결과를 합쳐서 벡터로 나타내게 된다.\n",
    "- 1차원함수에서의 미분 결과는 기울기의 크기인 스칼라 값이지만, 다변수함수에서의 미분 결과는 입력 변수 갯수만큼의 차원을 갖는 벡터가 된다. \n",
    "- 이 기울기 벡터를 그래디언트라고 부른다. 이것은 다차원 함수로 정의된 평면에서의 접면의 벡터라고 볼 수 있다."
   ]
  },
  {
   "attachments": {},
   "cell_type": "markdown",
   "metadata": {},
   "source": [
    "## 함수의 입출력 형태\n",
    "- 벡터를 입력으로 받는 함수\n",
    "- 행렬을 입력으로 받는 함수\n",
    "- 출력이 벡터 또는 행렬인 함수\n",
    "- 입력과 출력이 벡터인 함수"
   ]
  },
  {
   "attachments": {},
   "cell_type": "markdown",
   "metadata": {},
   "source": [
    "## 행렬의 미분\n",
    "- 스칼라를 벡터로 미분\n",
    "- 스칼라를 행렬로 미분\n",
    "- 벡터를 스칼라로 미분\n",
    "- 벡터를 벡터로 미분"
   ]
  },
  {
   "cell_type": "code",
   "execution_count": null,
   "metadata": {},
   "outputs": [],
   "source": []
  }
 ],
 "metadata": {
  "kernelspec": {
   "display_name": "pytorch",
   "language": "python",
   "name": "python3"
  },
  "language_info": {
   "name": "python",
   "version": "3.6.13 |Anaconda, Inc.| (default, Mar 16 2021, 11:37:27) [MSC v.1916 64 bit (AMD64)]"
  },
  "orig_nbformat": 4,
  "vscode": {
   "interpreter": {
    "hash": "c76801ef4636d259bef71178ff9b6783756e10e36adbdb1b3ea353d89da04bd9"
   }
  }
 },
 "nbformat": 4,
 "nbformat_minor": 2
}
