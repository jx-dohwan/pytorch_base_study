{
 "cells": [
  {
   "attachments": {},
   "cell_type": "markdown",
   "metadata": {},
   "source": [
    "# 경사하강법\n",
    "- 딥러닝에서 학습은 손실 함수를 최소로 하는 파라미터를 구하는 과정이다.\n",
    "- 경사하강법은 효율적으로 손실 함수의 출력을 최소로 만드는 입력을 찾기 위한 방법 중 하나이다."
   ]
  },
  {
   "attachments": {},
   "cell_type": "markdown",
   "metadata": {},
   "source": [
    "##  미분이란"
   ]
  },
  {
   "attachments": {},
   "cell_type": "markdown",
   "metadata": {},
   "source": [
    "## 기울기\n",
    "- 미분을 언급하기 전에 기울기가 무엇인지 알아야 한다.\n",
    "- 기울기는 x 증가량에 대한 y증가량으로 정의된다.\n",
    "- 즉, x가 변화한 양에 비해 y가 변화한 양이 클수록 기울기는 커지게 된다."
   ]
  },
  {
   "attachments": {},
   "cell_type": "markdown",
   "metadata": {},
   "source": [
    "## 극한(무한소)과 미분\n",
    "- x의 변화량을 매우 작게 만들어 볼 수 있을 것이다.\n",
    "- 앞에서는 두 점 사이의 기울기였지만 지금은 함수 f위의 지점 에서의 접선의 기울기라고 볼 수 있다."
   ]
  },
  {
   "attachments": {},
   "cell_type": "markdown",
   "metadata": {},
   "source": [
    "## 도함수\n",
    "- 함수 f가 주어졌을 때, 특정 지점 x에 대한 접선의 기울기를 함수로 나타낼 수 있다.\n",
    "- 입력은 특정 지점 x가 될 것이고, 출력은 해당 지점에서의 함수 f의 기울기가 될것이다.\n",
    "- 이때 함수 f의 기울기를 함수로 나타낸 g를 도함수라고 부른다. \n",
    "- 함수 f를 미분하여 얻을 수 있다."
   ]
  },
  {
   "attachments": {},
   "cell_type": "markdown",
   "metadata": {},
   "source": [
    "## 뉴턴 vs 라이프니츠\n",
    "- 우리가 일반적으로 알고 있는 미분의 표기법은 고등학생때 배웠던 작은 따옴표를 붙이는 방식으로 뉴턴의 방식을 따른 표기법이다.\n",
    "- 독일의 라이프니츠가 만든 표기법은 분수와 비슷한 꼴로 표현된다."
   ]
  }
 ],
 "metadata": {
  "kernelspec": {
   "display_name": "pytorch",
   "language": "python",
   "name": "python3"
  },
  "language_info": {
   "name": "python",
   "version": "3.6.13 |Anaconda, Inc.| (default, Mar 16 2021, 11:37:27) [MSC v.1916 64 bit (AMD64)]"
  },
  "orig_nbformat": 4,
  "vscode": {
   "interpreter": {
    "hash": "c76801ef4636d259bef71178ff9b6783756e10e36adbdb1b3ea353d89da04bd9"
   }
  }
 },
 "nbformat": 4,
 "nbformat_minor": 2
}
